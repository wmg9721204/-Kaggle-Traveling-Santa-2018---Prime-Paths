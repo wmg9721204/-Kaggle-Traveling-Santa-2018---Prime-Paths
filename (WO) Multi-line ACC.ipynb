{
 "cells": [
  {
   "cell_type": "code",
   "execution_count": 6,
   "metadata": {},
   "outputs": [
    {
     "data": {
      "text/plain": [
       "\"Temp\""
      ]
     },
     "execution_count": 6,
     "metadata": {},
     "output_type": "execute_result"
    }
   ],
   "source": [
    "## create a directory \"Temp\"\n",
    "mkdir(\"Temp\")\n",
    "\n",
    "## read what files are in \"Temp\"\n",
    "readdir(\"Temp\")\n",
    "\n",
    "## remove the directory \"Temp\"\n",
    "rm(\"Temp\")\n",
    "\n"
   ]
  },
  {
   "cell_type": "code",
   "execution_count": 45,
   "metadata": {},
   "outputs": [
    {
     "name": "stdout",
     "output_type": "stream",
     "text": [
      "  0.001295 seconds (44 allocations: 42.438 KiB)\n"
     ]
    },
    {
     "data": {
      "text/plain": [
       "9×1 Array{Any,2}:\n",
       "  \"Start\" \n",
       " 3        \n",
       "  \"Length\"\n",
       " 2.345    \n",
       "  \"Path\"  \n",
       " 1        \n",
       " 2        \n",
       " 3        \n",
       " 4        "
      ]
     },
     "execution_count": 45,
     "metadata": {},
     "output_type": "execute_result"
    }
   ],
   "source": [
    "using DelimitedFiles\n",
    "writedlm(\"test.txt\", [[\"Start\", 3, \"Length\", 2.345, \"Path\"]; [1,2,3,4]])\n",
    "@time R = readdlm(\"test.txt\")\n",
    "## @time R = reshape(R, size(R,1),)"
   ]
  },
  {
   "cell_type": "code",
   "execution_count": 50,
   "metadata": {},
   "outputs": [
    {
     "data": {
      "text/plain": [
       "1-element Array{Array{Int64,1},1}:\n",
       " [1, 2, 3, 4]"
      ]
     },
     "execution_count": 50,
     "metadata": {},
     "output_type": "execute_result"
    }
   ],
   "source": [
    "PPI = Array{Int64,1}[]\n",
    "push!(PPI, R[6:end, 1])"
   ]
  },
  {
   "cell_type": "code",
   "execution_count": 56,
   "metadata": {},
   "outputs": [
    {
     "name": "stdout",
     "output_type": "stream",
     "text": [
      "  0.000510 seconds (31 allocations: 41.641 KiB)\n"
     ]
    },
    {
     "data": {
      "text/plain": [
       "1×1 Array{Float64,2}:\n",
       " 0.0"
      ]
     },
     "execution_count": 56,
     "metadata": {},
     "output_type": "execute_result"
    }
   ],
   "source": [
    "writedlm(\"test.txt\", 0)\n",
    "@time R = readdlm(\"test.txt\")"
   ]
  },
  {
   "cell_type": "code",
   "execution_count": null,
   "metadata": {
    "collapsed": true
   },
   "outputs": [],
   "source": []
  },
  {
   "cell_type": "code",
   "execution_count": 55,
   "metadata": {},
   "outputs": [
    {
     "data": {
      "text/plain": [
       "3×2 Array{Float64,2}:\n",
       " 0.648135   0.569063\n",
       " 0.164178   0.94324 \n",
       " 0.0805131  0.915066"
      ]
     },
     "execution_count": 55,
     "metadata": {},
     "output_type": "execute_result"
    }
   ],
   "source": [
    "sortslices(rand(3,2), dims = 1, rev = true)"
   ]
  },
  {
   "cell_type": "code",
   "execution_count": 46,
   "metadata": {},
   "outputs": [
    {
     "data": {
      "text/plain": [
       "2-element Array{Array{Int64,1},1}:\n",
       " [1, 2, 3]\n",
       " [4, 5, 6]"
      ]
     },
     "execution_count": 46,
     "metadata": {},
     "output_type": "execute_result"
    }
   ],
   "source": [
    "[[1,2,3],[4,5,6]]\n",
    "PPI = Array{Int64,1}[]"
   ]
  },
  {
   "cell_type": "code",
   "execution_count": null,
   "metadata": {
    "collapsed": true
   },
   "outputs": [],
   "source": [
    "## This is for master processor\n",
    "include(\"src//ParaSelectACO.jl\");\n",
    "include(\"src//L_o_L_n.jl\");\n",
    "\n",
    "using DataFrames\n",
    "using CSV\n",
    "Cities = CSV.read(\"cities.csv\")\n",
    "global Data = Array{Float64,2}([Cities[:X]'; Cities[:Y]']);\n",
    "\n",
    "global Path_File = \"Good-Path-newest\"\n",
    "\n",
    "using LinearAlgebra ## for the function \"norm\"\n",
    "using StatsBase ## for function \"sample\"\n",
    "\n",
    "global k = 20\n",
    "global Range = [0.0 5.0; 0.0 5.0; 0.0 1.0; 0.0 30.0]\n",
    "global N_sample = 500;\n",
    "global Imp_total = 0.0 ## improve total\n",
    "\n",
    "global N_c = 100\n",
    "\n",
    "## create a directory \"Temp\" (for multi-line processing)\n",
    "mkdir(\"Temp\")\n",
    "\n",
    "using Primes\n",
    "using FileIO\n",
    "using DelimitedFiles\n",
    "\n",
    "global i = 1\n",
    "\n",
    "while i<=N_c    \n",
    "    Path_tasks = readdir(\"Temp\")\n",
    "    N_task = length(Path_tasks)\n",
    "    if N_task!=0\n",
    "        ## for non-master processors, simply \"continue\"\n",
    "        Start = Int[] ## \n",
    "        L_Imp = Float64[] ## Length Improved\n",
    "        Path_new = Array{Int64,1}[]\n",
    "        for file in Path_tasks\n",
    "            Read_file = readdlm(\"Temp//$(file)\")\n",
    "            push!(Start, Read_file[2,1])\n",
    "            push!(L_Imp, Read_file[4,1])\n",
    "            push!(Path_new, Read_file[6:end,1])\n",
    "        end\n",
    "        L_Imp_Ord = Array{Int, 1}(sortslices([L_Imp collect(1:N_task)], dims=1, rev=true)[:,2])\n",
    "        while To_modify!=[]\n",
    "            Cand = L_Imp_Ord[1] ## Candidate\n",
    "            GoodPath = CSV.read(Path_File*\".csv\");\n",
    "            global GoodPath = Array{Int, 1}(GoodPath[:Path]);\n",
    "            a = Start[Cand]\n",
    "            b = a+k-1\n",
    "            GoodPath[a:b] = Path_new[Cand]\n",
    "            df = DataFrame([GoodPath], [:Path]); ## store as dataframe type and add the column name :Path\n",
    "            CSV.write(Path_File*\".csv\", df)\n",
    "            Improve = L_Imp[Cand]\n",
    "            try \n",
    "                Imp_total = readdlm(Path_File*\"_Improve_total.txt\")[1]\n",
    "                Imp_total = Imp_total + Improve\n",
    "                writedlm(Path_File*\"_Improve_total.txt\", Imp_total)\n",
    "            catch\n",
    "                writedlm(Path_File*\"_Improve_total.txt\", Improve)\n",
    "            end\n",
    "            L_Imp_Ord = setdiff(L_Imp_Ord, L_Imp_Ord[(abs.(Start[L_Imp_Ord].-Start[Cand])).<k])\n",
    "        end            \n",
    "    end\n",
    "    \n",
    "    global i = i+1\n",
    "        \n",
    "    GoodPath = CSV.read(Path_File*\".csv\");\n",
    "    global GoodPath = Array{Int, 1}(GoodPath[:Path]);\n",
    "    \n",
    "    a = sample(collect(1:size(Data,2)-k+2))\n",
    "    b = a+k-1\n",
    "    Pts = Data[:,GoodPath[a:a+k-1].+1]\n",
    "    D = zeros(k,k)\n",
    "    for j=1:k-1\n",
    "        for l = j+1:k\n",
    "            D[j,l] = norm(Pts[:,j]-Pts[:,l])\n",
    "            D[l,j] = D[j,l]\n",
    "        end\n",
    "    end\n",
    "    \n",
    "    ###########################################################################\n",
    "    L_o = Old_Length(a, k, D, GoodPath)\n",
    "\n",
    "    ###########################################################################    \n",
    "    PSACO = ParaSelectACO(Range, N_sample, D, 1, k; Na = 200::Int)\n",
    "    Path_a = PSACO[\"Best_Path\"]\n",
    "    ## total length of the new path\n",
    "    L_n = New_Length(a, k, D, GoodPath, Path_a)\n",
    "    \n",
    "    writedlm(Path_File*\"_Progress_master_$(i)_of_$(N_c).txt\",0)\n",
    "    if i!=1\n",
    "        rm(Path_File*\"_Progress_master_$(i-1)_of_$(N_c).txt\")\n",
    "    end\n",
    "    \n",
    "    ## if the new path shortens the path length, save the path in Temp\n",
    "    if L_n<L_o\n",
    "        Improve = L_o-L_n\n",
    "        writedlm(\"Temp//Path_master.txt\", [[\"Start\", a, \"Improved_Length\", Improve, \"Path\"]; GoodPath[a:b][Path_a]])\n",
    "    end\n",
    "end\n",
    "writedlm(Path_File*\"_Progress_master_complete.txt\", 0)"
   ]
  }
 ],
 "metadata": {
  "kernelspec": {
   "display_name": "Julia 1.0.2",
   "language": "julia",
   "name": "julia-1.0"
  },
  "language_info": {
   "file_extension": ".jl",
   "mimetype": "application/julia",
   "name": "julia",
   "version": "1.0.2"
  }
 },
 "nbformat": 4,
 "nbformat_minor": 2
}
