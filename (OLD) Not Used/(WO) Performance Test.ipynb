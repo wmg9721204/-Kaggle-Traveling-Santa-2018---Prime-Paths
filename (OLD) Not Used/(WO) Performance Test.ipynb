{
 "cells": [
  {
   "cell_type": "markdown",
   "metadata": {},
   "source": [
    "## 1. Test the performance of the order of vectorization operation"
   ]
  },
  {
   "cell_type": "code",
   "execution_count": 114,
   "metadata": {},
   "outputs": [
    {
     "name": "stdout",
     "output_type": "stream",
     "text": [
      "  0.000707 seconds (6 allocations: 781.484 KiB)\n",
      "  0.074512 seconds (103.69 k allocations: 5.344 MiB)\n"
     ]
    }
   ],
   "source": [
    "d = 10\n",
    "N = 10000\n",
    "@time P = rand(d,N)\n",
    "@time P1 = [P[:,i] for i=1:N];"
   ]
  },
  {
   "cell_type": "code",
   "execution_count": 110,
   "metadata": {},
   "outputs": [
    {
     "name": "stdout",
     "output_type": "stream",
     "text": [
      "  0.000099 seconds (17 allocations: 1.276 KiB)\n"
     ]
    },
    {
     "data": {
      "text/plain": [
       "f (generic function with 1 method)"
      ]
     },
     "execution_count": 110,
     "metadata": {},
     "output_type": "execute_result"
    }
   ],
   "source": [
    "@time f(X) = sum(sqrt.(X.^2))"
   ]
  },
  {
   "cell_type": "code",
   "execution_count": 118,
   "metadata": {
    "scrolled": true
   },
   "outputs": [
    {
     "name": "stdout",
     "output_type": "stream",
     "text": [
      "  0.074527 seconds (136.19 k allocations: 8.183 MiB)\n",
      "  0.051740 seconds (123.70 k allocations: 8.005 MiB)\n"
     ]
    }
   ],
   "source": [
    "@time T1 = (P = rand(d,N); [f(P[:,i]) for i=1:N]) \n",
    "@time T2 = (P = rand(d,N); P = [P[:,i] for i=1:N]; f.(P););"
   ]
  },
  {
   "cell_type": "markdown",
   "metadata": {},
   "source": [
    "**Conclusion:** \n",
    "1. In allocation saving, the second method saves around 20%\n",
    "2. In runtime saving, the second method saves around 30%"
   ]
  },
  {
   "cell_type": "code",
   "execution_count": null,
   "metadata": {
    "collapsed": true
   },
   "outputs": [],
   "source": []
  }
 ],
 "metadata": {
  "kernelspec": {
   "display_name": "Julia 1.0.2",
   "language": "julia",
   "name": "julia-1.0"
  },
  "language_info": {
   "file_extension": ".jl",
   "mimetype": "application/julia",
   "name": "julia",
   "version": "1.0.2"
  }
 },
 "nbformat": 4,
 "nbformat_minor": 2
}
