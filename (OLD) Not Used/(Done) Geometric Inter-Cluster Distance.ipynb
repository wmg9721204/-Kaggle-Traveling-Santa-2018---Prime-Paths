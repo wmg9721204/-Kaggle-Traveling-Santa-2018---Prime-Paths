{
 "cells": [
  {
   "cell_type": "code",
   "execution_count": 1,
   "metadata": {},
   "outputs": [],
   "source": [
    "X = rand(2,50000);"
   ]
  },
  {
   "cell_type": "code",
   "execution_count": 39,
   "metadata": {},
   "outputs": [],
   "source": [
    "using Clustering\n",
    "n = 10\n",
    "Sample = copy(X)\n",
    "R = kmeans(Sample, n);\n",
    "A = assignments(R)\n",
    "C = counts(R);"
   ]
  },
  {
   "cell_type": "code",
   "execution_count": 40,
   "metadata": {},
   "outputs": [],
   "source": [
    "## using Plots\n",
    "## plotly()\n",
    "\n",
    "Dict_Cluster = Dict(i=>Int[] for i=1:n)\n",
    "## scatter(Sample[1,:], Sample[2,:], label = \"Sample\", markersize = 2)\n",
    "for i=1:n\n",
    "    Cluster_i = findall(A.==i)\n",
    "    Dict_Cluster[i] = Cluster_i\n",
    "    ## scatter!(Sample[1, Cluster_i], Sample[2, Cluster_i], label = \"Cluster $i\", markersize = 2)\n",
    "end\n",
    "## scatter!()"
   ]
  },
  {
   "cell_type": "code",
   "execution_count": 41,
   "metadata": {},
   "outputs": [
    {
     "data": {
      "text/plain": [
       "1×2 Array{Int64,2}:\n",
       " 5527  4412"
      ]
     },
     "execution_count": 41,
     "metadata": {},
     "output_type": "execute_result"
    }
   ],
   "source": [
    "## Pick out two clusters\n",
    "C1 = X[:,Dict_Cluster[1]]\n",
    "C2 = X[:,Dict_Cluster[2]];\n",
    "[size(C1,2) size(C2,2)]"
   ]
  },
  {
   "cell_type": "code",
   "execution_count": 5,
   "metadata": {},
   "outputs": [
    {
     "data": {
      "text/plain": [
       "kNNRWICDist"
      ]
     },
     "execution_count": 5,
     "metadata": {},
     "output_type": "execute_result"
    }
   ],
   "source": [
    "include(\"src\\\\kNNRWICDist.jl\")"
   ]
  },
  {
   "cell_type": "code",
   "execution_count": 53,
   "metadata": {},
   "outputs": [
    {
     "name": "stdout",
     "output_type": "stream",
     "text": [
      "  0.196668 seconds (134.79 k allocations: 92.454 MiB, 10.39% gc time)\n"
     ]
    },
    {
     "data": {
      "text/plain": [
       "(2835, 1383, 0.004689588042732668)"
      ]
     },
     "execution_count": 53,
     "metadata": {},
     "output_type": "execute_result"
    }
   ],
   "source": [
    "@time P1P2dist = kNNRWICDist(C1,C2,500)"
   ]
  },
  {
   "cell_type": "code",
   "execution_count": 115,
   "metadata": {
    "scrolled": true
   },
   "outputs": [
    {
     "data": {
      "text/plain": [
       "10-element Array{Any,1}:\n",
       " (1466, 121, 0.005483860588379762)  \n",
       " (209, 3094, 0.007555710353788835)  \n",
       " (2863, 3200, 0.0023032083875434346)\n",
       " (4900, 1296, 0.0005202116671478575)\n",
       " (2835, 1383, 0.004689588042732668) \n",
       " (4504, 1241, 0.0020255457629232373)\n",
       " (1466, 121, 0.005483860588379762)  \n",
       " (4900, 1296, 0.0005202116671478575)\n",
       " (209, 3094, 0.007555710353788835)  \n",
       " (2863, 3200, 0.0023032083875434346)"
      ]
     },
     "execution_count": 115,
     "metadata": {},
     "output_type": "execute_result"
    }
   ],
   "source": [
    "PtsOrd1 = (Sample2Order(C1))\n",
    "PtsOrd2 = (Sample2Order(C2))\n",
    "Dists = Float64[]\n",
    "Records = Any[]\n",
    "for i=1:10\n",
    "    P1P2dist = kNNRWICDist(C1, C2, 250, PtsOrd1 = PtsOrd1, PtsOrd2 = PtsOrd2)\n",
    "    push!(Records, P1P2dist)\n",
    "    push!(Dists,P1P2dist[3])\n",
    "end\n",
    "Records"
   ]
  },
  {
   "cell_type": "code",
   "execution_count": 108,
   "metadata": {},
   "outputs": [
    {
     "data": {
      "text/plain": [
       "0.0005202116671478575"
      ]
     },
     "execution_count": 108,
     "metadata": {},
     "output_type": "execute_result"
    }
   ],
   "source": [
    "Records[findmin(Dists)[2]][3]"
   ]
  },
  {
   "cell_type": "code",
   "execution_count": 73,
   "metadata": {},
   "outputs": [
    {
     "data": {
      "text/plain": [
       "Convex_Boundary_Inter_Distance"
      ]
     },
     "execution_count": 73,
     "metadata": {},
     "output_type": "execute_result"
    }
   ],
   "source": [
    "include(\"src//Convex_Boundary_Inter_Distance.jl\")"
   ]
  },
  {
   "cell_type": "code",
   "execution_count": 74,
   "metadata": {},
   "outputs": [],
   "source": [
    "CC1 = Array{Float64,2}(C1')\n",
    "CC2 = Array{Float64,2}(C2');"
   ]
  },
  {
   "cell_type": "code",
   "execution_count": 105,
   "metadata": {
    "scrolled": true
   },
   "outputs": [
    {
     "name": "stdout",
     "output_type": "stream",
     "text": [
      "  0.573215 seconds (4.23 M allocations: 353.243 MiB, 10.49% gc time)\n"
     ]
    },
    {
     "data": {
      "text/plain": [
       "Dict{String,Real} with 3 entries:\n",
       "  \"Group2\" => 1296\n",
       "  \"Group1\" => 4900\n",
       "  \"D_min\"  => 0.000520212"
      ]
     },
     "execution_count": 105,
     "metadata": {},
     "output_type": "execute_result"
    }
   ],
   "source": [
    "@time Convex_Boundary_Inter_Distance(CC1, CC2)"
   ]
  },
  {
   "cell_type": "code",
   "execution_count": null,
   "metadata": {},
   "outputs": [],
   "source": [
    "Cluster_dist = zeros(n,n)\n",
    "for i=1:n-1\n",
    "    for j=i+1:n\n",
    "        Cluster_dist[i,j] = kNNRWICDist(C1, C2, 10)[3] ##, PtsOrd1 = PtsOrd1, PtsOrd2 = PtsOrd2)\n",
    "    end\n",
    "end"
   ]
  },
  {
   "cell_type": "code",
   "execution_count": 26,
   "metadata": {
    "scrolled": true
   },
   "outputs": [
    {
     "data": {
      "text/plain": [
       "Base.KeySet for a Dict{Int64,Array{Int64,1}} with 100 entries. Keys:\n",
       "  68\n",
       "  2\n",
       "  89\n",
       "  11\n",
       "  39\n",
       "  46\n",
       "  85\n",
       "  25\n",
       "  55\n",
       "  42\n",
       "  29\n",
       "  58\n",
       "  66\n",
       "  59\n",
       "  8\n",
       "  74\n",
       "  95\n",
       "  57\n",
       "  20\n",
       "  90\n",
       "  14\n",
       "  31\n",
       "  78\n",
       "  70\n",
       "  33\n",
       "  ⋮"
      ]
     },
     "execution_count": 26,
     "metadata": {},
     "output_type": "execute_result"
    }
   ],
   "source": [
    "keys(Dict_Cluster)"
   ]
  },
  {
   "cell_type": "code",
   "execution_count": null,
   "metadata": {},
   "outputs": [],
   "source": [
    "using Plots\n",
    "plotly()\n",
    "scatter(C1[1,:], C1[2,:], label = \"Cluster 1\", markersize = 2)\n",
    "scatter!(C2[1,:], C2[2,:], label = \"Cluster 2\", markersize = 2)"
   ]
  }
 ],
 "metadata": {
  "kernelspec": {
   "display_name": "Julia 1.0.2",
   "language": "julia",
   "name": "julia-1.0"
  },
  "language_info": {
   "file_extension": ".jl",
   "mimetype": "application/julia",
   "name": "julia",
   "version": "1.0.2"
  }
 },
 "nbformat": 4,
 "nbformat_minor": 2
}
