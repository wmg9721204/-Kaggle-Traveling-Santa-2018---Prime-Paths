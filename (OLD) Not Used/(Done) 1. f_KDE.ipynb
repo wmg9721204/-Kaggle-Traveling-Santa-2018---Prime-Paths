{
 "cells": [
  {
   "cell_type": "markdown",
   "metadata": {},
   "source": [
    "### 1. f_KDE\n",
    "**Inputs:**\n",
    "1. a point cloud X in dimension d of size n, matrix dimension = d x n\n",
    "2. N::Int, the size of subsample for computing KDE\n",
    "3. H=H_MS::Array{Floa64,2}, the bandwidth parameter\n",
    "\n",
    "**Output:**\n",
    "a function: R^d→R\n",
    "\n",
    "**Details:** use Gaussian kernel and H_max bandwidth as default\n"
   ]
  },
  {
   "cell_type": "code",
   "execution_count": 48,
   "metadata": {
    "scrolled": true
   },
   "outputs": [
    {
     "name": "stdout",
     "output_type": "stream",
     "text": [
      "  0.000058 seconds (9 allocations: 23.953 KiB)\n",
      "  0.000023 seconds (19 allocations: 544 bytes)\n"
     ]
    },
    {
     "data": {
      "text/plain": [
       "3×3 Array{Float64,2}:\n",
       "  0.0127172    -0.000477463  -0.000197408\n",
       " -0.000477463   0.0130877    -3.68454e-5 \n",
       " -0.000197408  -3.68454e-5    0.0129841  "
      ]
     },
     "execution_count": 48,
     "metadata": {},
     "output_type": "execute_result"
    }
   ],
   "source": [
    "using StatsBase\n",
    "X = rand(3,1000)\n",
    "N = 1000 ## size of subsample for KDE\n",
    "\n",
    "d = size(X,1) ## dimension of the data\n",
    "R_K = 1/((2*sqrt(pi))^d) ## the R(K), the integral of the squared pdf, where K is the \"normal\" kernel\n",
    "n = size(X,2)\n",
    "\n",
    "Rand_N = Int[]\n",
    "if N<n\n",
    "    Rand_N = sample(collect(1:n), N, replace = false)\n",
    "elseif N>n\n",
    "    error(\"The subsample size is greater than the original sample size!!!\")\n",
    "else\n",
    "    Rand_N = collect(1:N)\n",
    "end\n",
    "Rand_N\n",
    "\n",
    "using Statistics\n",
    "@time S = cov(X') ## Sample covariance\n",
    "using SpecialFunctions\n",
    "@time H_MS = (((d+8)^((d+6)/2)*pi^(d/2)*R_K)/(16(d+2)gamma(d/2+4)))^(2/(d+4))*n^(-2/(d+4))*S ## The H used in maximal smoothness"
   ]
  },
  {
   "cell_type": "code",
   "execution_count": 3,
   "metadata": {},
   "outputs": [
    {
     "data": {
      "text/plain": [
       "NormalDensity (generic function with 2 methods)"
      ]
     },
     "execution_count": 3,
     "metadata": {},
     "output_type": "execute_result"
    }
   ],
   "source": [
    "function NormalDensity(d::Int, mu::Array{Float64,1}, Sigma=eye(2)::Array{Float64,2})\n",
    "    return (z-> 1/sqrt((2pi)^d*det(Sigma))*exp(1.0)^((-(1/2)*(z-mu)'*inv(Sigma)*(z-mu))[1]))\n",
    "end"
   ]
  },
  {
   "cell_type": "code",
   "execution_count": 51,
   "metadata": {},
   "outputs": [
    {
     "data": {
      "text/plain": [
       "f_H (generic function with 1 method)"
      ]
     },
     "execution_count": 51,
     "metadata": {},
     "output_type": "execute_result"
    }
   ],
   "source": [
    "## Kernels = [BiNormalDensity(Data[i,:], H_MS) for i=1:n]\n",
    "f_H(z) = 1/N*sum([NormalDensity(d, X[:,i], H_MS)(z) for i=1:N])"
   ]
  },
  {
   "cell_type": "code",
   "execution_count": 52,
   "metadata": {},
   "outputs": [
    {
     "data": {
      "text/plain": [
       "3"
      ]
     },
     "execution_count": 52,
     "metadata": {},
     "output_type": "execute_result"
    }
   ],
   "source": [
    "f_H()"
   ]
  },
  {
   "cell_type": "code",
   "execution_count": 45,
   "metadata": {},
   "outputs": [
    {
     "data": {
      "text/plain": [
       "3×3 Array{Float64,2}:\n",
       "  0.0759505   -0.00872411  0.00576844\n",
       " -0.00872411   0.0872637   0.00414364\n",
       "  0.00576844   0.00414364  0.0803111 "
      ]
     },
     "execution_count": 45,
     "metadata": {},
     "output_type": "execute_result"
    }
   ],
   "source": [
    "Rc = copy(R)\n",
    "for i=1:size(R,2)\n",
    "    Rc[:,i] = R[:,i].-mean(R[:,i])\n",
    "end\n",
    "Rc'*Rc/size(R,1)"
   ]
  },
  {
   "cell_type": "code",
   "execution_count": 12,
   "metadata": {},
   "outputs": [
    {
     "data": {
      "text/plain": [
       "3×3 Array{Float64,2}:\n",
       " 1.0  0.0  0.0\n",
       " 0.0  1.0  0.0\n",
       " 0.0  0.0  1.0"
      ]
     },
     "execution_count": 12,
     "metadata": {},
     "output_type": "execute_result"
    }
   ],
   "source": [
    "Matrix{Float64}(I,3,3)"
   ]
  },
  {
   "cell_type": "code",
   "execution_count": 41,
   "metadata": {},
   "outputs": [
    {
     "data": {
      "text/plain": [
       "f_KDE"
      ]
     },
     "execution_count": 41,
     "metadata": {},
     "output_type": "execute_result"
    }
   ],
   "source": [
    "using StatsBase # \"sample\"\n",
    "using Statistics # \"cov\"\n",
    "using SpecialFunctions # \"gamma\"\n",
    "using LinearAlgebra #\"eigen\"\n",
    "\n",
    "\"\"\"\n",
    "**f_KDE** is a function computing the KDE of a given point cloud\n",
    "**Inputs:**\n",
    "1. a point cloud X in dimension d of size n, matrix dimension = d x n\n",
    "2. N::Int, the size of subsample for computing KDE\n",
    "3. H=H_MS::Array{Floa64,2}, the bandwidth parameter\n",
    "\n",
    "**Output:**\n",
    "a function: R^d→R\n",
    "\n",
    "**Details:** use Gaussian kernel and H_max bandwidth as default\n",
    "\"\"\"\n",
    "function f_KDE(X::Array{Float64,2}, N::Int, \n",
    "        H = zeros(size(X,1), size(X,1))::Array{Float64,2})\n",
    "    \n",
    "    d = size(X,1) ## dimension of the data\n",
    "    R_K = 1/((2*sqrt(pi))^d) ## the R(K), the integral of the squared pdf, where K is the \"normal\" kernel\n",
    "    n = size(X,2)\n",
    "    \n",
    "    Rand_N = Int[]\n",
    "    if N<n\n",
    "        Rand_N = sample(collect(1:n), N, replace = false)\n",
    "    elseif N>n\n",
    "        error(\"The subsample size is greater than the original sample size!!!\")\n",
    "    else\n",
    "        Rand_N = collect(1:N)\n",
    "    end\n",
    "    Rand_N\n",
    "    if H==zeros(d,d)\n",
    "        S = cov(X') ## Sample covariance    \n",
    "        ## The H used in maximal smoothness\n",
    "        H_MS = (((d+8)^((d+6)/2)*pi^(d/2)*R_K)/(16(d+2)gamma(d/2+4)))^(2/(d+4))*n^(-2/(d+4))*S\n",
    "        H = H_MS\n",
    "    else\n",
    "        E = eigen(H)\n",
    "        if sum((E.values).>0)<d\n",
    "            error(\"The bandwidth H is NOT positive definit!!!\")\n",
    "        end\n",
    "    end\n",
    "        \n",
    "    \n",
    "    ## Kernels = [NormalDensity(Data[i,:], H_MS) for i=1:N]\n",
    "    return f_H(z) = 1/N*sum([NormalDensity(d, X[:,i], H)(z) for i=1:N])\n",
    "end"
   ]
  },
  {
   "cell_type": "code",
   "execution_count": 36,
   "metadata": {},
   "outputs": [
    {
     "data": {
      "text/plain": [
       "(::getfield(Main, Symbol(\"#f_H#21\")){Array{Float64,2},Int64,Int64}) (generic function with 1 method)"
      ]
     },
     "execution_count": 36,
     "metadata": {},
     "output_type": "execute_result"
    }
   ],
   "source": [
    "F = f_KDE(rand(2,1000),300)"
   ]
  },
  {
   "cell_type": "code",
   "execution_count": 40,
   "metadata": {},
   "outputs": [
    {
     "data": {
      "text/plain": [
       "0.0"
      ]
     },
     "execution_count": 40,
     "metadata": {},
     "output_type": "execute_result"
    }
   ],
   "source": [
    "F([1,5])"
   ]
  },
  {
   "cell_type": "code",
   "execution_count": null,
   "metadata": {
    "collapsed": true
   },
   "outputs": [],
   "source": []
  }
 ],
 "metadata": {
  "kernelspec": {
   "display_name": "Julia 1.0.2",
   "language": "julia",
   "name": "julia-1.0"
  },
  "language_info": {
   "file_extension": ".jl",
   "mimetype": "application/julia",
   "name": "julia",
   "version": "1.0.2"
  }
 },
 "nbformat": 4,
 "nbformat_minor": 2
}
