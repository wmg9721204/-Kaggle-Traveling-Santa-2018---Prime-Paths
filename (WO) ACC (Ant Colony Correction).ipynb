{
 "cells": [
  {
   "cell_type": "markdown",
   "metadata": {},
   "source": [
    "### ACC (Ant Colony Correction) is a new idea for implementing Ant Colony Optimization"
   ]
  },
  {
   "cell_type": "markdown",
   "metadata": {},
   "source": [
    "**Basic idea**: for a given \"sufficiently good\" path, try to use ACO to further optimize the path \"piecewisely\""
   ]
  },
  {
   "cell_type": "code",
   "execution_count": 15,
   "metadata": {
    "collapsed": true
   },
   "outputs": [],
   "source": [
    "using DataFrames\n",
    "using CSV\n",
    "Cities = CSV.read(\"cities.csv\")\n",
    "Data = Array{Float64,2}([Cities[:X]'; Cities[:Y]']);"
   ]
  },
  {
   "cell_type": "code",
   "execution_count": 32,
   "metadata": {
    "collapsed": true
   },
   "outputs": [],
   "source": [
    "GoodPath = CSV.read(\"Good-Path-newest.csv\");\n",
    "GoodPath = Array{Int, 1}(GoodPath[:Path]);"
   ]
  },
  {
   "cell_type": "code",
   "execution_count": 4,
   "metadata": {
    "collapsed": true
   },
   "outputs": [],
   "source": [
    "using Primes"
   ]
  },
  {
   "cell_type": "code",
   "execution_count": 5,
   "metadata": {
    "collapsed": true
   },
   "outputs": [],
   "source": [
    "using LinearAlgebra ## for the function \"norm\"\n",
    "using StatsBase ## for function \"sample\""
   ]
  },
  {
   "cell_type": "markdown",
   "metadata": {},
   "source": [
    "**Part I**: write the evaluation function \"**Len_Eval**\" (Length Evaluation)"
   ]
  },
  {
   "cell_type": "code",
   "execution_count": 114,
   "metadata": {
    "scrolled": true
   },
   "outputs": [
    {
     "data": {
      "text/plain": [
       "Len_Eval_1 (generic function with 1 method)"
      ]
     },
     "execution_count": 114,
     "metadata": {},
     "output_type": "execute_result"
    }
   ],
   "source": [
    "function Len_Eval_1(GoodPath::Array{Int, 1}, Data::Array{Float64, 2})\n",
    "    \n",
    "    if sort(Array{Int,1}(collect(Set(GoodPath))))!=collect(0:size(Data,2)-1)\n",
    "        error(\"The path misses some cities!!!\")\n",
    "    elseif GoodPath[1]!=0\n",
    "        error(\"The path does not start from City 0!!!\")\n",
    "    elseif GoodPath[end]!=0\n",
    "        error(\"The path does not end at City 0!!!\")\n",
    "    end\n",
    "    \n",
    "    Dist = 0.0\n",
    "    for i=1:length(GoodPath)-1\n",
    "        if ((i%10)==0)##&&(i!=1) ## i.e. step 11, 21, 31, 41, etc.\n",
    "            if isprime(GoodPath[i]+1)\n",
    "                Dist = Dist + norm(Data[:, GoodPath[i]+1]-Data[:, GoodPath[i+1]+1])\n",
    "            else\n",
    "                Dist = Dist +1.1*norm(Data[:, GoodPath[i]+1]-Data[:, GoodPath[i+1]+1])\n",
    "            end\n",
    "        else\n",
    "            Dist = Dist + norm(Data[:, GoodPath[i]+1]-Data[:, GoodPath[i+1]+1])\n",
    "        end\n",
    "    end\n",
    "    Dist\n",
    "end"
   ]
  },
  {
   "cell_type": "code",
   "execution_count": 6,
   "metadata": {
    "scrolled": true
   },
   "outputs": [
    {
     "data": {
      "text/plain": [
       "Len_Eval_2 (generic function with 1 method)"
      ]
     },
     "execution_count": 6,
     "metadata": {},
     "output_type": "execute_result"
    }
   ],
   "source": [
    "function Len_Eval_2(GoodPath::Array{Int, 1}, Data::Array{Float64, 2})\n",
    "    \n",
    "    if sort(Array{Int,1}(collect(Set(GoodPath))))!=collect(0:size(Data,2)-1)\n",
    "        error(\"The path misses some cities!!!\")\n",
    "    elseif GoodPath[1]!=0\n",
    "        error(\"The path does not start from City 0!!!\")\n",
    "    elseif GoodPath[end]!=0\n",
    "        error(\"The path does not end at City 0!!!\")\n",
    "    end\n",
    "    \n",
    "    Dist = 0.0\n",
    "    for i=1:length(GoodPath)-1\n",
    "        if ((i%10)==1)&&(i!=1) ## i.e. step 11, 21, 31, 41, etc.\n",
    "            if isprime(GoodPath[i]+1)\n",
    "                Dist = Dist + norm(Data[:, GoodPath[i]+1]-Data[:, GoodPath[i+1]+1])\n",
    "            else\n",
    "                Dist = Dist +1.1*norm(Data[:, GoodPath[i]+1]-Data[:, GoodPath[i+1]+1])\n",
    "            end\n",
    "        else\n",
    "            Dist = Dist + norm(Data[:, GoodPath[i]+1]-Data[:, GoodPath[i+1]+1])\n",
    "        end\n",
    "    end\n",
    "    Dist\n",
    "end"
   ]
  },
  {
   "cell_type": "code",
   "execution_count": 11,
   "metadata": {},
   "outputs": [
    {
     "data": {
      "text/plain": [
       "1532126"
      ]
     },
     "execution_count": 11,
     "metadata": {},
     "output_type": "execute_result"
    }
   ],
   "source": [
    "round(Int,Len_Eval_2(GoodPath, Data))"
   ]
  },
  {
   "cell_type": "code",
   "execution_count": 19,
   "metadata": {},
   "outputs": [
    {
     "data": {
      "text/plain": [
       "1532125"
      ]
     },
     "execution_count": 19,
     "metadata": {},
     "output_type": "execute_result"
    }
   ],
   "source": [
    "round(Int,Len_Eval_2(GoodPath, Data))"
   ]
  },
  {
   "cell_type": "code",
   "execution_count": 29,
   "metadata": {},
   "outputs": [
    {
     "data": {
      "text/plain": [
       "1532123"
      ]
     },
     "execution_count": 29,
     "metadata": {},
     "output_type": "execute_result"
    }
   ],
   "source": [
    "round(Int,Len_Eval_2(GoodPath, Data))"
   ]
  },
  {
   "cell_type": "code",
   "execution_count": 33,
   "metadata": {},
   "outputs": [
    {
     "data": {
      "text/plain": [
       "1532089"
      ]
     },
     "execution_count": 33,
     "metadata": {},
     "output_type": "execute_result"
    }
   ],
   "source": [
    "round(Int,Len_Eval_2(GoodPath, Data))"
   ]
  },
  {
   "cell_type": "code",
   "execution_count": null,
   "metadata": {
    "collapsed": true
   },
   "outputs": [],
   "source": []
  },
  {
   "cell_type": "code",
   "execution_count": 140,
   "metadata": {},
   "outputs": [
    {
     "data": {
      "text/plain": [
       "Dummy_Eval (generic function with 1 method)"
      ]
     },
     "execution_count": 140,
     "metadata": {},
     "output_type": "execute_result"
    }
   ],
   "source": [
    "function Dummy_Eval(GoodPath::Array{Int, 1}, Data::Array{Float64, 2})\n",
    "    Dist = 0.0        \n",
    "    for i=1:length(GoodPath)-1\n",
    "        Dist = Dist + norm(Data[:, GoodPath[i]+1]-Data[:, GoodPath[i+1]+1])\n",
    "    end\n",
    "    Dist\n",
    "end"
   ]
  },
  {
   "cell_type": "code",
   "execution_count": 132,
   "metadata": {
    "collapsed": true,
    "scrolled": false
   },
   "outputs": [],
   "source": [
    "L_eval_1 = Float64[]\n",
    "for i=18:30\n",
    "    GoodPath = CSV.read(\"History-Results//Z_$(i)_10.csv\");\n",
    "    GoodPath = Array{Int, 1}(GoodPath[:Path])\n",
    "    push!(L_eval_1, round(Len_Eval_1(GoodPath, Data), RoundUp))\n",
    "end\n",
    "L_eval_1;"
   ]
  },
  {
   "cell_type": "code",
   "execution_count": 133,
   "metadata": {
    "collapsed": true,
    "scrolled": true
   },
   "outputs": [],
   "source": [
    "L_eval_2 = Float64[]\n",
    "for i=18:30\n",
    "    GoodPath = CSV.read(\"History-Results//Z_$(i)_10.csv\");\n",
    "    GoodPath = Array{Int, 1}(GoodPath[:Path])\n",
    "    push!(L_eval_2, round(Len_Eval_2(GoodPath, Data), RoundUp))\n",
    "end\n",
    "L_eval_2;"
   ]
  },
  {
   "cell_type": "code",
   "execution_count": 143,
   "metadata": {
    "collapsed": true
   },
   "outputs": [],
   "source": [
    "L_dummy = Float64[]\n",
    "for i=18:30\n",
    "    GoodPath = CSV.read(\"History-Results//Z_$(i)_10.csv\");\n",
    "    GoodPath = Array{Int, 1}(GoodPath[:Path])\n",
    "    push!(L_dummy, round(Dummy_Eval(GoodPath, Data), RoundUp))\n",
    "end\n",
    "L_dummy;"
   ]
  },
  {
   "cell_type": "code",
   "execution_count": 134,
   "metadata": {
    "collapsed": true
   },
   "outputs": [],
   "source": [
    "L = [1683265.02, 1675956.66, 1672222.78, 1668616.97, 1664058.79, 1663115.37, 1657609.28, 1658854.95, 1658440.87, \n",
    "1656901.38, 1661120.29, 1658562.90, 1661280.17];"
   ]
  },
  {
   "cell_type": "code",
   "execution_count": 144,
   "metadata": {},
   "outputs": [
    {
     "data": {
      "text/plain": [
       "1×3 Array{Float64,2}:\n",
       " -18.3408  -6.95615  -15024.5"
      ]
     },
     "execution_count": 144,
     "metadata": {},
     "output_type": "execute_result"
    }
   ],
   "source": [
    "using Statistics\n",
    "(L_eval_1+L_eval_2)/2-L\n",
    "[L_eval_1-L L_eval_2-L L_dummy-L]\n",
    "[mean(L_eval_1-L) mean(L_eval_2-L) mean(L_dummy-L)]"
   ]
  },
  {
   "cell_type": "markdown",
   "metadata": {},
   "source": [
    "**Conclusion**: We should take the second evaluation method. "
   ]
  },
  {
   "cell_type": "markdown",
   "metadata": {},
   "source": [
    "**Part II**: Implement ACC (Ant Colony Correction)"
   ]
  },
  {
   "cell_type": "code",
   "execution_count": 148,
   "metadata": {
    "collapsed": true
   },
   "outputs": [],
   "source": [
    "N = 999\n",
    "Path = [0;sample(collect(1:N),N, replace = false); 0]\n",
    "Data = rand(2,N+1);"
   ]
  },
  {
   "cell_type": "code",
   "execution_count": 99,
   "metadata": {},
   "outputs": [
    {
     "data": {
      "text/plain": [
       "ACC"
      ]
     },
     "execution_count": 99,
     "metadata": {},
     "output_type": "execute_result"
    }
   ],
   "source": [
    "\"\"\"\n",
    "ACC (Ant Colony Correction) is a function implementing the idea of ACO (Ant Colony Optimization)\n",
    "to further correct a given path to a better one.\n",
    "\n",
    "\"\"\"\n",
    "function ACC(Path::Array{Int,1}, Data::Array{Float64,2}, a::Int, k::Int\n",
    "        ; alp = 1.0, bet = 1.0, rho = 0.3, Q = 1.0, N_a = 500)\n",
    "    \n",
    "    b = a+k-1\n",
    "    Pts = Data[:, Path[a:b].+1]\n",
    "    Dist = [norm(Pts[:, i]-Pts[:, j]) for i=1:k, j=1:k]\n",
    "\n",
    "    Tau = 1/(k-1)*ones(k,k)-1/(k-1)*Matrix{Float64}(I,k,k); ## the prior transition probability\n",
    "    path_a = collect(1:k) ## record the current path\n",
    "\n",
    "    path = collect(1:k) ## record the best path\n",
    "    L = Inf ## record the best length\n",
    "    \n",
    "    for i=1:N_a\n",
    "        Cand = setdiff(collect(1:k),[1, k]) ## the candidates\n",
    "        CP = 1 ## cp =  current point\n",
    "        path_a = Int[copy(CP)]\n",
    "\n",
    "        for p = 2:k-1\n",
    "            w = aweights((Tau[CP,Cand].^alp).*((Dist[CP,Cand].^(-1)).^bet))\n",
    "            CP = sample(Cand,w)\n",
    "            Cand = setdiff(Cand,[CP])\n",
    "            push!(path_a, CP)\n",
    "        end\n",
    "        push!(path_a, k)\n",
    "        path_a\n",
    "\n",
    "        L_a = 0.0 ## total length of path_a\n",
    "        for j = a:b-1\n",
    "            if ((j%10)==1)&&(j!=1) ## i.e. step 11, 21, 31, 41, etc.\n",
    "                if isprime(Path[a:b][path_a[j-a+1]]+1)\n",
    "                    L_a = L_a + Dist[path_a[j-a+1], path_a[j-a+2]]\n",
    "                else\n",
    "                    L_a = L_a +1.1*Dist[path_a[j-a+1], path_a[j-a+2]]\n",
    "                end\n",
    "            else\n",
    "                L_a = L_a + Dist[path_a[j-a+1], path_a[j-a+2]]\n",
    "            end\n",
    "        end\n",
    "        ## println(L_a)\n",
    "\n",
    "        if L_a<L\n",
    "            path = copy(path_a)\n",
    "            L = copy(L_a)\n",
    "        end\n",
    "\n",
    "        Tau = Tau*(1-rho) ## evaporation update\n",
    "        ## Pheromone update\n",
    "        PheroPerUnit = Q/L_a\n",
    "\n",
    "        for j = 1:k-1\n",
    "            Tau[path_a[j], path_a[j+1]] = Tau[path_a[j], path_a[j+1]] + PheroPerUnit ## Pheromone update\n",
    "        end\n",
    "\n",
    "        Tau   \n",
    "    end\n",
    "    \n",
    "    ## (new path, new length)\n",
    "    (Path[a:b][path_a], L)\n",
    "end"
   ]
  },
  {
   "cell_type": "code",
   "execution_count": null,
   "metadata": {
    "collapsed": true
   },
   "outputs": [],
   "source": []
  },
  {
   "cell_type": "code",
   "execution_count": 115,
   "metadata": {},
   "outputs": [
    {
     "data": {
      "application/vnd.plotly.v1+json": {
       "data": [
        {
         "colorbar": {
          "title": ""
         },
         "hoverinfo": "text",
         "legendgroup": "y1",
         "marker": {
          "color": "rgba(0, 154, 250, 1.000)",
          "line": {
           "color": "rgba(0, 0, 0, 1.000)",
           "width": 1
          },
          "size": 8,
          "symbol": "circle"
         },
         "mode": "markers",
         "name": "y1",
         "showlegend": true,
         "text": [
          null,
          null,
          null,
          null,
          null,
          null,
          null,
          null,
          null,
          null,
          null,
          null,
          null,
          null,
          null,
          null,
          null,
          null,
          null,
          null
         ],
         "type": "scatter",
         "x": [
          305.18604794272,
          297.672349370526,
          290.864899757908,
          292.274916415293,
          290.574536270167,
          298.766447758674,
          297.553079239959,
          301.839897587159,
          306.024078345343,
          300.634952078699,
          305.887416293597,
          311.066380786003,
          303.054794304874,
          305.523699478045,
          310.83613414281,
          315.903197468628,
          318.224743939734,
          319.009567893774,
          313.132390657997,
          309.964628586536
         ],
         "xaxis": "x1",
         "y": [
          2192.45588855616,
          2192.99731595961,
          2191.07005626441,
          2181.74396274725,
          2172.79010869238,
          2175.7408433968,
          2167.85528368595,
          2162.62461172321,
          2158.50705037027,
          2154.33466860713,
          2148.03528864942,
          2144.76825799006,
          2140.40590092464,
          2132.65777609093,
          2137.6790798072,
          2141.3092081431,
          2146.58073756244,
          2151.93230366359,
          2152.29047831449,
          2156.20571449105
         ],
         "yaxis": "y1",
         "zmax": 0.1,
         "zmin": -0.1
        },
        {
         "colorbar": {
          "title": ""
         },
         "hoverinfo": "text",
         "legendgroup": "y2",
         "line": {
          "color": "rgba(227, 111, 71, 1.000)",
          "dash": "solid",
          "shape": "linear",
          "width": 1
         },
         "mode": "lines",
         "name": "y2",
         "showlegend": true,
         "text": [
          null,
          null,
          null,
          null,
          null,
          null,
          null,
          null,
          null,
          null,
          null,
          null,
          null,
          null,
          null,
          null,
          null,
          null,
          null,
          null
         ],
         "type": "scatter",
         "x": [
          305.18604794272,
          297.672349370526,
          290.864899757908,
          292.274916415293,
          290.574536270167,
          298.766447758674,
          297.553079239959,
          301.839897587159,
          306.024078345343,
          300.634952078699,
          305.887416293597,
          311.066380786003,
          303.054794304874,
          305.523699478045,
          310.83613414281,
          315.903197468628,
          318.224743939734,
          319.009567893774,
          313.132390657997,
          309.964628586536
         ],
         "xaxis": "x1",
         "y": [
          2192.45588855616,
          2192.99731595961,
          2191.07005626441,
          2181.74396274725,
          2172.79010869238,
          2175.7408433968,
          2167.85528368595,
          2162.62461172321,
          2158.50705037027,
          2154.33466860713,
          2148.03528864942,
          2144.76825799006,
          2140.40590092464,
          2132.65777609093,
          2137.6790798072,
          2141.3092081431,
          2146.58073756244,
          2151.93230366359,
          2152.29047831449,
          2156.20571449105
         ],
         "yaxis": "y1",
         "zmax": 0.1,
         "zmin": -0.1
        },
        {
         "colorbar": {
          "title": ""
         },
         "hoverinfo": "text",
         "legendgroup": "y3",
         "line": {
          "color": "rgba(62, 164, 78, 1.000)",
          "dash": "solid",
          "shape": "linear",
          "width": 1
         },
         "mode": "lines",
         "name": "y3",
         "showlegend": true,
         "text": [
          null,
          null,
          null,
          null,
          null,
          null,
          null,
          null,
          null,
          null,
          null,
          null,
          null,
          null,
          null,
          null,
          null,
          null,
          null,
          null
         ],
         "type": "scatter",
         "x": [
          305.18604794272,
          290.864899757908,
          297.672349370526,
          292.274916415293,
          290.574536270167,
          297.553079239959,
          301.839897587159,
          319.009567893774,
          318.224743939734,
          313.132390657997,
          305.887416293597,
          315.903197468628,
          311.066380786003,
          310.83613414281,
          305.523699478045,
          303.054794304874,
          300.634952078699,
          306.024078345343,
          298.766447758674,
          309.964628586536
         ],
         "xaxis": "x1",
         "y": [
          2192.45588855616,
          2191.07005626441,
          2192.99731595961,
          2181.74396274725,
          2172.79010869238,
          2167.85528368595,
          2162.62461172321,
          2151.93230366359,
          2146.58073756244,
          2152.29047831449,
          2148.03528864942,
          2141.3092081431,
          2144.76825799006,
          2137.6790798072,
          2132.65777609093,
          2140.40590092464,
          2154.33466860713,
          2158.50705037027,
          2175.7408433968,
          2156.20571449105
         ],
         "yaxis": "y1",
         "zmax": 0.1,
         "zmin": -0.1
        }
       ],
       "layout": {
        "annotations": [],
        "height": 400,
        "legend": {
         "bgcolor": "rgba(255, 255, 255, 1.000)",
         "bordercolor": "rgba(0, 0, 0, 1.000)",
         "font": {
          "color": "rgba(0, 0, 0, 1.000)",
          "family": "sans-serif",
          "size": 11
         },
         "tracegroupgap": 0,
         "x": 1,
         "y": 1
        },
        "margin": {
         "b": 20,
         "l": 0,
         "r": 0,
         "t": 20
        },
        "paper_bgcolor": "rgba(255, 255, 255, 1.000)",
        "plot_bgcolor": "rgba(255, 255, 255, 1.000)",
        "showlegend": true,
        "width": 600,
        "xaxis": {
         "anchor": "y1",
         "domain": [
          0.0658209390492855,
          0.9934383202099738
         ],
         "gridcolor": "rgba(0, 0, 0, 0.100)",
         "gridwidth": 0.5,
         "linecolor": "rgba(0, 0, 0, 1.000)",
         "mirror": false,
         "range": [
          289.72148532145883,
          319.86261884248216
         ],
         "showgrid": true,
         "showline": true,
         "showticklabels": true,
         "tickangle": 0,
         "tickcolor": "rgb(0, 0, 0)",
         "tickfont": {
          "color": "rgba(0, 0, 0, 1.000)",
          "family": "sans-serif",
          "size": 11
         },
         "tickmode": "array",
         "ticks": "inside",
         "ticktext": [
          "290",
          "295",
          "300",
          "305",
          "310",
          "315"
         ],
         "tickvals": [
          290,
          295,
          300,
          305,
          310,
          315
         ],
         "title": "",
         "titlefont": {
          "color": "rgba(0, 0, 0, 1.000)",
          "family": "sans-serif",
          "size": 15
         },
         "type": "-",
         "visible": true,
         "zeroline": false,
         "zerolinecolor": "rgba(0, 0, 0, 1.000)"
        },
        "yaxis": {
         "anchor": "x1",
         "domain": [
          0.03762029746281716,
          0.9901574803149606
         ],
         "gridcolor": "rgba(0, 0, 0, 0.100)",
         "gridwidth": 0.5,
         "linecolor": "rgba(0, 0, 0, 1.000)",
         "mirror": false,
         "range": [
          2130.8475898948695,
          2194.8075021556706
         ],
         "showgrid": true,
         "showline": true,
         "showticklabels": true,
         "tickangle": 0,
         "tickcolor": "rgb(0, 0, 0)",
         "tickfont": {
          "color": "rgba(0, 0, 0, 1.000)",
          "family": "sans-serif",
          "size": 11
         },
         "tickmode": "array",
         "ticks": "inside",
         "ticktext": [
          "2140",
          "2150",
          "2160",
          "2170",
          "2180",
          "2190"
         ],
         "tickvals": [
          2140,
          2150,
          2160,
          2170,
          2180,
          2190
         ],
         "title": "",
         "titlefont": {
          "color": "rgba(0, 0, 0, 1.000)",
          "family": "sans-serif",
          "size": 15
         },
         "type": "-",
         "visible": true,
         "zeroline": false,
         "zerolinecolor": "rgba(0, 0, 0, 1.000)"
        }
       }
      },
      "text/html": [
       "    <div id=\"031fc1cc-c55b-4a16-ab48-12f40aee1f5f\" style=\"width:600px;height:400px;\"></div>\n",
       "    <script>\n",
       "    PLOT = document.getElementById('031fc1cc-c55b-4a16-ab48-12f40aee1f5f');\n",
       "    Plotly.plot(PLOT, [{\"xaxis\":\"x1\",\"colorbar\":{\"title\":\"\"},\"yaxis\":\"y1\",\"text\":[null,null,null,null,null,null,null,null,null,null,null,null,null,null,null,null,null,null,null,null],\"x\":[305.18604794272,297.672349370526,290.864899757908,292.274916415293,290.574536270167,298.766447758674,297.553079239959,301.839897587159,306.024078345343,300.634952078699,305.887416293597,311.066380786003,303.054794304874,305.523699478045,310.83613414281,315.903197468628,318.224743939734,319.009567893774,313.132390657997,309.964628586536],\"showlegend\":true,\"mode\":\"markers\",\"name\":\"y1\",\"zmin\":-0.1,\"legendgroup\":\"y1\",\"marker\":{\"symbol\":\"circle\",\"color\":\"rgba(0, 154, 250, 1.000)\",\"line\":{\"color\":\"rgba(0, 0, 0, 1.000)\",\"width\":1},\"size\":8},\"zmax\":0.1,\"y\":[2192.45588855616,2192.99731595961,2191.07005626441,2181.74396274725,2172.79010869238,2175.7408433968,2167.85528368595,2162.62461172321,2158.50705037027,2154.33466860713,2148.03528864942,2144.76825799006,2140.40590092464,2132.65777609093,2137.6790798072,2141.3092081431,2146.58073756244,2151.93230366359,2152.29047831449,2156.20571449105],\"type\":\"scatter\",\"hoverinfo\":\"text\"},{\"xaxis\":\"x1\",\"colorbar\":{\"title\":\"\"},\"yaxis\":\"y1\",\"text\":[null,null,null,null,null,null,null,null,null,null,null,null,null,null,null,null,null,null,null,null],\"x\":[305.18604794272,297.672349370526,290.864899757908,292.274916415293,290.574536270167,298.766447758674,297.553079239959,301.839897587159,306.024078345343,300.634952078699,305.887416293597,311.066380786003,303.054794304874,305.523699478045,310.83613414281,315.903197468628,318.224743939734,319.009567893774,313.132390657997,309.964628586536],\"showlegend\":true,\"mode\":\"lines\",\"name\":\"y2\",\"zmin\":-0.1,\"legendgroup\":\"y2\",\"zmax\":0.1,\"line\":{\"color\":\"rgba(227, 111, 71, 1.000)\",\"shape\":\"linear\",\"dash\":\"solid\",\"width\":1},\"y\":[2192.45588855616,2192.99731595961,2191.07005626441,2181.74396274725,2172.79010869238,2175.7408433968,2167.85528368595,2162.62461172321,2158.50705037027,2154.33466860713,2148.03528864942,2144.76825799006,2140.40590092464,2132.65777609093,2137.6790798072,2141.3092081431,2146.58073756244,2151.93230366359,2152.29047831449,2156.20571449105],\"type\":\"scatter\",\"hoverinfo\":\"text\"},{\"xaxis\":\"x1\",\"colorbar\":{\"title\":\"\"},\"yaxis\":\"y1\",\"text\":[null,null,null,null,null,null,null,null,null,null,null,null,null,null,null,null,null,null,null,null],\"x\":[305.18604794272,290.864899757908,297.672349370526,292.274916415293,290.574536270167,297.553079239959,301.839897587159,319.009567893774,318.224743939734,313.132390657997,305.887416293597,315.903197468628,311.066380786003,310.83613414281,305.523699478045,303.054794304874,300.634952078699,306.024078345343,298.766447758674,309.964628586536],\"showlegend\":true,\"mode\":\"lines\",\"name\":\"y3\",\"zmin\":-0.1,\"legendgroup\":\"y3\",\"zmax\":0.1,\"line\":{\"color\":\"rgba(62, 164, 78, 1.000)\",\"shape\":\"linear\",\"dash\":\"solid\",\"width\":1},\"y\":[2192.45588855616,2191.07005626441,2192.99731595961,2181.74396274725,2172.79010869238,2167.85528368595,2162.62461172321,2151.93230366359,2146.58073756244,2152.29047831449,2148.03528864942,2141.3092081431,2144.76825799006,2137.6790798072,2132.65777609093,2140.40590092464,2154.33466860713,2158.50705037027,2175.7408433968,2156.20571449105],\"type\":\"scatter\",\"hoverinfo\":\"text\"}], {\"showlegend\":true,\"xaxis\":{\"showticklabels\":true,\"gridwidth\":0.5,\"tickvals\":[290.0,295.0,300.0,305.0,310.0,315.0],\"visible\":true,\"ticks\":\"inside\",\"range\":[289.72148532145883,319.86261884248216],\"domain\":[0.0658209390492855,0.9934383202099738],\"tickmode\":\"array\",\"linecolor\":\"rgba(0, 0, 0, 1.000)\",\"showgrid\":true,\"title\":\"\",\"mirror\":false,\"tickangle\":0,\"showline\":true,\"gridcolor\":\"rgba(0, 0, 0, 0.100)\",\"titlefont\":{\"color\":\"rgba(0, 0, 0, 1.000)\",\"family\":\"sans-serif\",\"size\":15},\"tickcolor\":\"rgb(0, 0, 0)\",\"ticktext\":[\"290\",\"295\",\"300\",\"305\",\"310\",\"315\"],\"zeroline\":false,\"type\":\"-\",\"tickfont\":{\"color\":\"rgba(0, 0, 0, 1.000)\",\"family\":\"sans-serif\",\"size\":11},\"zerolinecolor\":\"rgba(0, 0, 0, 1.000)\",\"anchor\":\"y1\"},\"paper_bgcolor\":\"rgba(255, 255, 255, 1.000)\",\"annotations\":[],\"height\":400,\"margin\":{\"l\":0,\"b\":20,\"r\":0,\"t\":20},\"plot_bgcolor\":\"rgba(255, 255, 255, 1.000)\",\"yaxis\":{\"showticklabels\":true,\"gridwidth\":0.5,\"tickvals\":[2140.0,2150.0,2160.0,2170.0,2180.0,2190.0],\"visible\":true,\"ticks\":\"inside\",\"range\":[2130.8475898948695,2194.8075021556706],\"domain\":[0.03762029746281716,0.9901574803149606],\"tickmode\":\"array\",\"linecolor\":\"rgba(0, 0, 0, 1.000)\",\"showgrid\":true,\"title\":\"\",\"mirror\":false,\"tickangle\":0,\"showline\":true,\"gridcolor\":\"rgba(0, 0, 0, 0.100)\",\"titlefont\":{\"color\":\"rgba(0, 0, 0, 1.000)\",\"family\":\"sans-serif\",\"size\":15},\"tickcolor\":\"rgb(0, 0, 0)\",\"ticktext\":[\"2140\",\"2150\",\"2160\",\"2170\",\"2180\",\"2190\"],\"zeroline\":false,\"type\":\"-\",\"tickfont\":{\"color\":\"rgba(0, 0, 0, 1.000)\",\"family\":\"sans-serif\",\"size\":11},\"zerolinecolor\":\"rgba(0, 0, 0, 1.000)\",\"anchor\":\"x1\"},\"legend\":{\"tracegroupgap\":0,\"bordercolor\":\"rgba(0, 0, 0, 1.000)\",\"bgcolor\":\"rgba(255, 255, 255, 1.000)\",\"font\":{\"color\":\"rgba(0, 0, 0, 1.000)\",\"family\":\"sans-serif\",\"size\":11},\"y\":1.0,\"x\":1.0},\"width\":600});\n",
       "    </script>\n"
      ]
     },
     "execution_count": 115,
     "metadata": {},
     "output_type": "execute_result"
    }
   ],
   "source": [
    "a = 3\n",
    "k = 20\n",
    "\n",
    "alp = 1.0\n",
    "bet = 1.0\n",
    "rho = 0.3\n",
    "Q = 1.0\n",
    "\n",
    "ACC_I = ACC(GoodPath, Data, a::Int, k::Int; alp = 1.0, bet = 1.0, rho = 0.3, Q = 1.0, N_a = 500)\n",
    "P_ACC = ACC_I[1];\n",
    "\n",
    "Path = GoodPath[a:a+k-1]\n",
    "\n",
    "using Plots\n",
    "plotly()\n",
    "scatter(Data[1,Path.+1], Data[2, Path.+1])\n",
    "plot!(Data[1,Path.+1], Data[2, Path.+1])\n",
    "\n",
    "plot!(Data[1,P_ACC.+1], Data[2, P_ACC.+1])"
   ]
  },
  {
   "cell_type": "code",
   "execution_count": null,
   "metadata": {
    "collapsed": true
   },
   "outputs": [],
   "source": []
  },
  {
   "cell_type": "code",
   "execution_count": 20,
   "metadata": {},
   "outputs": [
    {
     "data": {
      "text/plain": [
       "RandPts"
      ]
     },
     "execution_count": 20,
     "metadata": {},
     "output_type": "execute_result"
    }
   ],
   "source": [
    "\"\"\"\n",
    "**RandPts** is a function that randomly uniformly generates m points in dimension size(Range,2) inside Range. <br>\n",
    "Inputs: <br>\n",
    "m: number of random points to generate <br>\n",
    "Range: dim x 2 matrix; the d-th row is the range of the d-th coordinate <br>\n",
    "Output: <br>\n",
    "an dim x m matrix; each column is a desired random vector. <br>\n",
    "\"\"\"\n",
    "function RandPts(Range::Array{Float64,2}, m::Int)\n",
    "    ## dim = size(Range,1)\n",
    "    ## randPts = rand(dim,m)\n",
    "    ## Coeff = (Range[:,2].-Range[:,1])\n",
    "    ## Intercept = Range[:,1]\n",
    "    ## randPts = ((Range[:,2].-Range[:,1]).*rand(size(Range,1),m)).+Range[:,1]\n",
    "    return ((Range[:,2].-Range[:,1]).*rand(size(Range,1),m)).+Range[:,1]\n",
    "end"
   ]
  },
  {
   "cell_type": "code",
   "execution_count": 107,
   "metadata": {},
   "outputs": [
    {
     "data": {
      "text/plain": [
       "ParaSelectACC"
      ]
     },
     "execution_count": 107,
     "metadata": {},
     "output_type": "execute_result"
    }
   ],
   "source": [
    "\"\"\"\n",
    "**ParaSelectACO** is a function that selects appropriate parameters for ACO.\n",
    "\"\"\"\n",
    "function ParaSelectACC(Range::Array{Float64, 2}, N_sample::Int, Path::Array{Int,1}, \n",
    "        Data::Array{Float64,2}, a::Int, k::Int; N_a=200::Int)\n",
    "    RP = RandPts(Range, N_sample)\n",
    "    Best_Length = Inf\n",
    "    Best_Path = Int[]\n",
    "    Best_Para = zeros(4)\n",
    "    ## History = Float64[]\n",
    "    for i=1:N_sample\n",
    "        AP = ACC(Path, Data, a, k; alp = RP[1], bet = RP[2], rho = RP[3], Q = RP[4], N_a = N_a)\n",
    "        ## push!(History, AP[2])\n",
    "        if AP[2]<Best_Length\n",
    "            Best_Length = AP[2]\n",
    "            Best_Path = AP[1]\n",
    "            Best_Para = RP[:,i]\n",
    "        end\n",
    "    end\n",
    "    \n",
    "    b = a+k-1\n",
    "    L_o = 0.0 ## total length of the original path\n",
    "    for j = a:b-1\n",
    "        if ((j%10)==1)&&(j!=1) ## i.e. step 11, 21, 31, 41, etc.\n",
    "            if isprime(Path[a:b][j-a+1]+1)\n",
    "                L_o = L_o + norm(Data[:, Path[a:b][j-a+1]+1]-Data[:, Path[a:b][j-a+2]+1])\n",
    "            else\n",
    "                L_o = L_o +1.1*norm(Data[:, Path[a:b][j-a+1]+1]-Data[:, Path[a:b][j-a+2]+1])\n",
    "            end\n",
    "        else\n",
    "            L_o = L_o + norm(Data[:, Path[a:b][j-a+1]+1]-Data[:, Path[a:b][j-a+2]+1])\n",
    "        end\n",
    "    end\n",
    "    L_o\n",
    "    \n",
    "    return Dict(\"Best_Length\"=>Best_Length, \"Old_length\"=>L_o, \"Best_Path\"=>Best_Path, \n",
    "        \"Length_History\"=>History, \"Best_Para\"=>Best_Para)\n",
    "end"
   ]
  },
  {
   "cell_type": "code",
   "execution_count": 121,
   "metadata": {},
   "outputs": [
    {
     "name": "stdout",
     "output_type": "stream",
     "text": [
      " 30.387326 seconds (95.14 M allocations: 9.279 GiB, 14.55% gc time)\n"
     ]
    },
    {
     "data": {
      "text/plain": [
       "Dict{String,Any} with 5 entries:\n",
       "  \"Best_Length\"    => 184.444\n",
       "  \"Old_length\"     => 138.054\n",
       "  \"Best_Path\"      => [111804, 69414, 2187, 177800, 95592, 167893, 2832, 97649,…\n",
       "  \"Length_History\" => [284.499, 290.777, 409.238, 308.275, 291.035, 305.321, 31…\n",
       "  \"Best_Para\"      => [1.55821, 1.99644, 0.727417, 25.6211]"
      ]
     },
     "execution_count": 121,
     "metadata": {},
     "output_type": "execute_result"
    }
   ],
   "source": [
    "Range = [0.0 5.0; 0.0 5.0; 0.0 1.0; 0.0 30.0]\n",
    "N_sample = 500;\n",
    "a = 30\n",
    "k = 20\n",
    "\n",
    "@time PSACC = ParaSelectACC(Range, N_sample, GoodPath, Data, a, k; N_a = 500::Int)"
   ]
  },
  {
   "cell_type": "code",
   "execution_count": 122,
   "metadata": {},
   "outputs": [
    {
     "data": {
      "application/vnd.plotly.v1+json": {
       "data": [
        {
         "colorbar": {
          "title": ""
         },
         "hoverinfo": "text",
         "legendgroup": "y1",
         "marker": {
          "color": "rgba(0, 154, 250, 1.000)",
          "line": {
           "color": "rgba(0, 0, 0, 1.000)",
           "width": 1
          },
          "size": 8,
          "symbol": "circle"
         },
         "mode": "markers",
         "name": "y1",
         "showlegend": true,
         "text": [
          null,
          null,
          null,
          null,
          null,
          null,
          null,
          null,
          null,
          null,
          null,
          null,
          null,
          null,
          null,
          null,
          null,
          null,
          null,
          null
         ],
         "type": "scatter",
         "x": [
          314.494243312195,
          320.997523957835,
          326.961985267161,
          330.044926325094,
          335.221382881878,
          340.447678980448,
          341.391315721585,
          336.745662436408,
          342.723994341121,
          348.215087362586,
          354.16946727587,
          361.831487458408,
          368.102718726077,
          376.24109202656,
          375.700853044765,
          367.790307989163,
          371.804976208308,
          378.451222304692,
          386.847392632818,
          394.701003845816
         ],
         "xaxis": "x1",
         "y": [
          2186.64674767296,
          2186.42278175365,
          2181.98346864998,
          2177.75218902023,
          2175.77170748142,
          2174.84160478992,
          2169.28400855022,
          2163.50537169038,
          2162.58500055885,
          2162.84840098929,
          2165.34699186053,
          2168.10439043248,
          2172.69605857417,
          2174.63315931167,
          2166.11769989323,
          2161.64176999664,
          2154.56269444775,
          2157.437564551,
          2158.45059660056,
          2164.16009374974
         ],
         "yaxis": "y1",
         "zmax": 0.1,
         "zmin": -0.1
        },
        {
         "colorbar": {
          "title": ""
         },
         "hoverinfo": "text",
         "legendgroup": "y2",
         "line": {
          "color": "rgba(227, 111, 71, 1.000)",
          "dash": "solid",
          "shape": "linear",
          "width": 1
         },
         "mode": "lines",
         "name": "y2",
         "showlegend": true,
         "text": [
          null,
          null,
          null,
          null,
          null,
          null,
          null,
          null,
          null,
          null,
          null,
          null,
          null,
          null,
          null,
          null,
          null,
          null,
          null,
          null
         ],
         "type": "scatter",
         "x": [
          314.494243312195,
          320.997523957835,
          326.961985267161,
          330.044926325094,
          335.221382881878,
          340.447678980448,
          341.391315721585,
          336.745662436408,
          342.723994341121,
          348.215087362586,
          354.16946727587,
          361.831487458408,
          368.102718726077,
          376.24109202656,
          375.700853044765,
          367.790307989163,
          371.804976208308,
          378.451222304692,
          386.847392632818,
          394.701003845816
         ],
         "xaxis": "x1",
         "y": [
          2186.64674767296,
          2186.42278175365,
          2181.98346864998,
          2177.75218902023,
          2175.77170748142,
          2174.84160478992,
          2169.28400855022,
          2163.50537169038,
          2162.58500055885,
          2162.84840098929,
          2165.34699186053,
          2168.10439043248,
          2172.69605857417,
          2174.63315931167,
          2166.11769989323,
          2161.64176999664,
          2154.56269444775,
          2157.437564551,
          2158.45059660056,
          2164.16009374974
         ],
         "yaxis": "y1",
         "zmax": 0.1,
         "zmin": -0.1
        },
        {
         "colorbar": {
          "title": ""
         },
         "hoverinfo": "text",
         "legendgroup": "y3",
         "line": {
          "color": "rgba(62, 164, 78, 1.000)",
          "dash": "solid",
          "shape": "linear",
          "width": 1
         },
         "mode": "lines",
         "name": "y3",
         "showlegend": true,
         "text": [
          null,
          null,
          null,
          null,
          null,
          null,
          null,
          null,
          null,
          null,
          null,
          null,
          null,
          null,
          null,
          null,
          null,
          null,
          null,
          null
         ],
         "type": "scatter",
         "x": [
          314.494243312195,
          320.997523957835,
          326.961985267161,
          330.044926325094,
          335.221382881878,
          341.391315721585,
          336.745662436408,
          342.723994341121,
          354.16946727587,
          340.447678980448,
          348.215087362586,
          361.831487458408,
          367.790307989163,
          368.102718726077,
          376.24109202656,
          375.700853044765,
          378.451222304692,
          371.804976208308,
          386.847392632818,
          394.701003845816
         ],
         "xaxis": "x1",
         "y": [
          2186.64674767296,
          2186.42278175365,
          2181.98346864998,
          2177.75218902023,
          2175.77170748142,
          2169.28400855022,
          2163.50537169038,
          2162.58500055885,
          2165.34699186053,
          2174.84160478992,
          2162.84840098929,
          2168.10439043248,
          2161.64176999664,
          2172.69605857417,
          2174.63315931167,
          2166.11769989323,
          2157.437564551,
          2154.56269444775,
          2158.45059660056,
          2164.16009374974
         ],
         "yaxis": "y1",
         "zmax": 0.1,
         "zmin": -0.1
        }
       ],
       "layout": {
        "annotations": [],
        "height": 400,
        "legend": {
         "bgcolor": "rgba(255, 255, 255, 1.000)",
         "bordercolor": "rgba(0, 0, 0, 1.000)",
         "font": {
          "color": "rgba(0, 0, 0, 1.000)",
          "family": "sans-serif",
          "size": 11
         },
         "tracegroupgap": 0,
         "x": 1,
         "y": 1
        },
        "margin": {
         "b": 20,
         "l": 0,
         "r": 0,
         "t": 20
        },
        "paper_bgcolor": "rgba(255, 255, 255, 1.000)",
        "plot_bgcolor": "rgba(255, 255, 255, 1.000)",
        "showlegend": true,
        "width": 600,
        "xaxis": {
         "anchor": "y1",
         "domain": [
          0.0658209390492855,
          0.9934383202099738
         ],
         "gridcolor": "rgba(0, 0, 0, 0.100)",
         "gridwidth": 0.5,
         "linecolor": "rgba(0, 0, 0, 1.000)",
         "mirror": false,
         "range": [
          312.0880404961864,
          397.1072066618246
         ],
         "showgrid": true,
         "showline": true,
         "showticklabels": true,
         "tickangle": 0,
         "tickcolor": "rgb(0, 0, 0)",
         "tickfont": {
          "color": "rgba(0, 0, 0, 1.000)",
          "family": "sans-serif",
          "size": 11
         },
         "tickmode": "array",
         "ticks": "inside",
         "ticktext": [
          "320",
          "340",
          "360",
          "380"
         ],
         "tickvals": [
          320,
          340,
          360,
          380
         ],
         "title": "",
         "titlefont": {
          "color": "rgba(0, 0, 0, 1.000)",
          "family": "sans-serif",
          "size": 15
         },
         "type": "-",
         "visible": true,
         "zeroline": false,
         "zerolinecolor": "rgba(0, 0, 0, 1.000)"
        },
        "yaxis": {
         "anchor": "x1",
         "domain": [
          0.03762029746281716,
          0.9901574803149606
         ],
         "gridcolor": "rgba(0, 0, 0, 0.100)",
         "gridwidth": 0.5,
         "linecolor": "rgba(0, 0, 0, 1.000)",
         "mirror": false,
         "range": [
          2153.6001728509937,
          2187.609269269716
         ],
         "showgrid": true,
         "showline": true,
         "showticklabels": true,
         "tickangle": 0,
         "tickcolor": "rgb(0, 0, 0)",
         "tickfont": {
          "color": "rgba(0, 0, 0, 1.000)",
          "family": "sans-serif",
          "size": 11
         },
         "tickmode": "array",
         "ticks": "inside",
         "ticktext": [
          "2155",
          "2160",
          "2165",
          "2170",
          "2175",
          "2180",
          "2185"
         ],
         "tickvals": [
          2155,
          2160,
          2165,
          2170,
          2175,
          2180,
          2185
         ],
         "title": "",
         "titlefont": {
          "color": "rgba(0, 0, 0, 1.000)",
          "family": "sans-serif",
          "size": 15
         },
         "type": "-",
         "visible": true,
         "zeroline": false,
         "zerolinecolor": "rgba(0, 0, 0, 1.000)"
        }
       }
      },
      "text/html": [
       "    <div id=\"e79358cf-22d2-4a11-bd03-151fbf592fb6\" style=\"width:600px;height:400px;\"></div>\n",
       "    <script>\n",
       "    PLOT = document.getElementById('e79358cf-22d2-4a11-bd03-151fbf592fb6');\n",
       "    Plotly.plot(PLOT, [{\"xaxis\":\"x1\",\"colorbar\":{\"title\":\"\"},\"yaxis\":\"y1\",\"text\":[null,null,null,null,null,null,null,null,null,null,null,null,null,null,null,null,null,null,null,null],\"x\":[314.494243312195,320.997523957835,326.961985267161,330.044926325094,335.221382881878,340.447678980448,341.391315721585,336.745662436408,342.723994341121,348.215087362586,354.16946727587,361.831487458408,368.102718726077,376.24109202656,375.700853044765,367.790307989163,371.804976208308,378.451222304692,386.847392632818,394.701003845816],\"showlegend\":true,\"mode\":\"markers\",\"name\":\"y1\",\"zmin\":-0.1,\"legendgroup\":\"y1\",\"marker\":{\"symbol\":\"circle\",\"color\":\"rgba(0, 154, 250, 1.000)\",\"line\":{\"color\":\"rgba(0, 0, 0, 1.000)\",\"width\":1},\"size\":8},\"zmax\":0.1,\"y\":[2186.64674767296,2186.42278175365,2181.98346864998,2177.75218902023,2175.77170748142,2174.84160478992,2169.28400855022,2163.50537169038,2162.58500055885,2162.84840098929,2165.34699186053,2168.10439043248,2172.69605857417,2174.63315931167,2166.11769989323,2161.64176999664,2154.56269444775,2157.437564551,2158.45059660056,2164.16009374974],\"type\":\"scatter\",\"hoverinfo\":\"text\"},{\"xaxis\":\"x1\",\"colorbar\":{\"title\":\"\"},\"yaxis\":\"y1\",\"text\":[null,null,null,null,null,null,null,null,null,null,null,null,null,null,null,null,null,null,null,null],\"x\":[314.494243312195,320.997523957835,326.961985267161,330.044926325094,335.221382881878,340.447678980448,341.391315721585,336.745662436408,342.723994341121,348.215087362586,354.16946727587,361.831487458408,368.102718726077,376.24109202656,375.700853044765,367.790307989163,371.804976208308,378.451222304692,386.847392632818,394.701003845816],\"showlegend\":true,\"mode\":\"lines\",\"name\":\"y2\",\"zmin\":-0.1,\"legendgroup\":\"y2\",\"zmax\":0.1,\"line\":{\"color\":\"rgba(227, 111, 71, 1.000)\",\"shape\":\"linear\",\"dash\":\"solid\",\"width\":1},\"y\":[2186.64674767296,2186.42278175365,2181.98346864998,2177.75218902023,2175.77170748142,2174.84160478992,2169.28400855022,2163.50537169038,2162.58500055885,2162.84840098929,2165.34699186053,2168.10439043248,2172.69605857417,2174.63315931167,2166.11769989323,2161.64176999664,2154.56269444775,2157.437564551,2158.45059660056,2164.16009374974],\"type\":\"scatter\",\"hoverinfo\":\"text\"},{\"xaxis\":\"x1\",\"colorbar\":{\"title\":\"\"},\"yaxis\":\"y1\",\"text\":[null,null,null,null,null,null,null,null,null,null,null,null,null,null,null,null,null,null,null,null],\"x\":[314.494243312195,320.997523957835,326.961985267161,330.044926325094,335.221382881878,341.391315721585,336.745662436408,342.723994341121,354.16946727587,340.447678980448,348.215087362586,361.831487458408,367.790307989163,368.102718726077,376.24109202656,375.700853044765,378.451222304692,371.804976208308,386.847392632818,394.701003845816],\"showlegend\":true,\"mode\":\"lines\",\"name\":\"y3\",\"zmin\":-0.1,\"legendgroup\":\"y3\",\"zmax\":0.1,\"line\":{\"color\":\"rgba(62, 164, 78, 1.000)\",\"shape\":\"linear\",\"dash\":\"solid\",\"width\":1},\"y\":[2186.64674767296,2186.42278175365,2181.98346864998,2177.75218902023,2175.77170748142,2169.28400855022,2163.50537169038,2162.58500055885,2165.34699186053,2174.84160478992,2162.84840098929,2168.10439043248,2161.64176999664,2172.69605857417,2174.63315931167,2166.11769989323,2157.437564551,2154.56269444775,2158.45059660056,2164.16009374974],\"type\":\"scatter\",\"hoverinfo\":\"text\"}], {\"showlegend\":true,\"xaxis\":{\"showticklabels\":true,\"gridwidth\":0.5,\"tickvals\":[320.0,340.0,360.0,380.0],\"visible\":true,\"ticks\":\"inside\",\"range\":[312.0880404961864,397.1072066618246],\"domain\":[0.0658209390492855,0.9934383202099738],\"tickmode\":\"array\",\"linecolor\":\"rgba(0, 0, 0, 1.000)\",\"showgrid\":true,\"title\":\"\",\"mirror\":false,\"tickangle\":0,\"showline\":true,\"gridcolor\":\"rgba(0, 0, 0, 0.100)\",\"titlefont\":{\"color\":\"rgba(0, 0, 0, 1.000)\",\"family\":\"sans-serif\",\"size\":15},\"tickcolor\":\"rgb(0, 0, 0)\",\"ticktext\":[\"320\",\"340\",\"360\",\"380\"],\"zeroline\":false,\"type\":\"-\",\"tickfont\":{\"color\":\"rgba(0, 0, 0, 1.000)\",\"family\":\"sans-serif\",\"size\":11},\"zerolinecolor\":\"rgba(0, 0, 0, 1.000)\",\"anchor\":\"y1\"},\"paper_bgcolor\":\"rgba(255, 255, 255, 1.000)\",\"annotations\":[],\"height\":400,\"margin\":{\"l\":0,\"b\":20,\"r\":0,\"t\":20},\"plot_bgcolor\":\"rgba(255, 255, 255, 1.000)\",\"yaxis\":{\"showticklabels\":true,\"gridwidth\":0.5,\"tickvals\":[2155.0,2160.0,2165.0,2170.0,2175.0,2180.0,2185.0],\"visible\":true,\"ticks\":\"inside\",\"range\":[2153.6001728509937,2187.609269269716],\"domain\":[0.03762029746281716,0.9901574803149606],\"tickmode\":\"array\",\"linecolor\":\"rgba(0, 0, 0, 1.000)\",\"showgrid\":true,\"title\":\"\",\"mirror\":false,\"tickangle\":0,\"showline\":true,\"gridcolor\":\"rgba(0, 0, 0, 0.100)\",\"titlefont\":{\"color\":\"rgba(0, 0, 0, 1.000)\",\"family\":\"sans-serif\",\"size\":15},\"tickcolor\":\"rgb(0, 0, 0)\",\"ticktext\":[\"2155\",\"2160\",\"2165\",\"2170\",\"2175\",\"2180\",\"2185\"],\"zeroline\":false,\"type\":\"-\",\"tickfont\":{\"color\":\"rgba(0, 0, 0, 1.000)\",\"family\":\"sans-serif\",\"size\":11},\"zerolinecolor\":\"rgba(0, 0, 0, 1.000)\",\"anchor\":\"x1\"},\"legend\":{\"tracegroupgap\":0,\"bordercolor\":\"rgba(0, 0, 0, 1.000)\",\"bgcolor\":\"rgba(255, 255, 255, 1.000)\",\"font\":{\"color\":\"rgba(0, 0, 0, 1.000)\",\"family\":\"sans-serif\",\"size\":11},\"y\":1.0,\"x\":1.0},\"width\":600});\n",
       "    </script>\n"
      ]
     },
     "execution_count": 122,
     "metadata": {},
     "output_type": "execute_result"
    }
   ],
   "source": [
    "Path = GoodPath[a:a+k-1]\n",
    "\n",
    "using Plots\n",
    "plotly()\n",
    "scatter(Data[1,Path.+1], Data[2, Path.+1])\n",
    "plot!(Data[1,Path.+1], Data[2, Path.+1])\n",
    "\n",
    "Path_a = PSACC[\"Best_Path\"]\n",
    "plot!(Data[1,Path_a.+1], Data[2, Path_a.+1])"
   ]
  },
  {
   "cell_type": "code",
   "execution_count": null,
   "metadata": {
    "collapsed": true
   },
   "outputs": [],
   "source": []
  },
  {
   "cell_type": "code",
   "execution_count": 118,
   "metadata": {
    "collapsed": true
   },
   "outputs": [],
   "source": [
    "include(\"src//ParaSelectACO.jl\");"
   ]
  },
  {
   "cell_type": "code",
   "execution_count": 196,
   "metadata": {},
   "outputs": [
    {
     "data": {
      "text/plain": [
       "\"12\""
      ]
     },
     "execution_count": 196,
     "metadata": {},
     "output_type": "execute_result"
    }
   ],
   "source": [
    "\"1\"*\"2\""
   ]
  },
  {
   "cell_type": "code",
   "execution_count": 194,
   "metadata": {},
   "outputs": [
    {
     "name": "stdout",
     "output_type": "stream",
     "text": [
      "a = 154165, Improve = 0.6788705425304329\n",
      "a = 46941, Improve = 0.48328432627440066\n",
      "a = 84107, Improve = 0.02978932927516098\n",
      "a = 102461, Improve = 0.4990763380200747\n",
      "a = 75089, Improve = 0.18776227662792166\n",
      "a = 139577, Improve = 0.42256854491404283\n",
      "a = 120801, Improve = 1.2028237690235244\n",
      "a = 180927, Improve = 0.5787086926163312\n",
      "a = 81498, Improve = 0.6650530548060942\n"
     ]
    },
    {
     "data": {
      "text/plain": [
       "4.7479368740879835"
      ]
     },
     "execution_count": 194,
     "metadata": {},
     "output_type": "execute_result"
    }
   ],
   "source": [
    "k = 20\n",
    "Imp_total = 0.0 ## improve total\n",
    "\n",
    "for i=1:100\n",
    "    a = sample(collect(1:size(Data,2)-k+2))\n",
    "    b = a+k-1\n",
    "    \n",
    "    ## Take out the point coordinates\n",
    "    Pts = Data[:,GoodPath[a:a+k-1].+1]\n",
    "    \n",
    "    ## Compute the distance matrix\n",
    "    D = [norm(Pts[:,i]-Pts[:,j]) for i=1:k, j=1:k]\n",
    "    \n",
    "    Path_o = collect(1:k)\n",
    "    L_o = 0.0 ## total length of the old path\n",
    "    for j = a:b-1\n",
    "        if ((j%10)==1)&&(j!=1) ## i.e. step 11, 21, 31, 41, etc.\n",
    "            if isprime(GoodPath[a:b][j-a+1]+1)\n",
    "                L_o = L_o + D[j-a+1, j-a+2]\n",
    "            else\n",
    "                L_o = L_o +1.1*D[j-a+1, j-a+2]\n",
    "            end\n",
    "        else\n",
    "            L_o = L_o + D[j-a+1, j-a+2]\n",
    "        end\n",
    "    end\n",
    "    L_o\n",
    "\n",
    "    ## \n",
    "    \n",
    "    PSACO = ParaSelectACO(Range, N_sample, D::Array{Float64,2}, 1, k; Na=200::Int)\n",
    "    Path_a = PSACO[\"Best_Path\"]\n",
    "\n",
    "    L_n = 0.0 ## total length of the new path\n",
    "    for j = a:b-1\n",
    "        if ((j%10)==1)&&(j!=1) ## i.e. step 11, 21, 31, 41, etc.\n",
    "            if isprime(GoodPath[a:b][Path_a][j-a+1]+1)\n",
    "                L_n = L_n + D[Path_a[j-a+1], Path_a[j-a+2]]\n",
    "            else\n",
    "                L_n = L_n +1.1*D[Path_a[j-a+1], Path_a[j-a+2]]\n",
    "            end\n",
    "        else\n",
    "            L_n = L_n + D[Path_a[j-a+1], Path_a[j-a+2]]\n",
    "        end\n",
    "    end\n",
    "    L_n\n",
    "    \n",
    "    if L_n<L_o\n",
    "        Improve = L_o-L_n\n",
    "        Imp_total = Imp_total+ Improve\n",
    "        println(\"a = $a, Improve = $Improve\")\n",
    "        GoodPath[a:b] = GoodPath[a:b][Path_a]\n",
    "    end\n",
    "end\n",
    "Imp_total"
   ]
  },
  {
   "cell_type": "code",
   "execution_count": 193,
   "metadata": {},
   "outputs": [
    {
     "data": {
      "text/plain": [
       "5.436531031155823"
      ]
     },
     "execution_count": 193,
     "metadata": {},
     "output_type": "execute_result"
    }
   ],
   "source": [
    "Imp_total"
   ]
  },
  {
   "cell_type": "code",
   "execution_count": 209,
   "metadata": {},
   "outputs": [
    {
     "name": "stdout",
     "output_type": "stream",
     "text": [
      "a = 93600, Improve = 0.27852558570971553\n",
      "a = 104340, Improve = 0.03564385669949388\n",
      "a = 86890, Improve = 0.07802321434368764\n",
      "a = 50726, Improve = 0.38679254747377456\n",
      "a = 143078, Improve = 0.801479014230452\n"
     ]
    },
    {
     "data": {
      "text/plain": [
       "\"Good-Path-2_new.csv\""
      ]
     },
     "execution_count": 209,
     "metadata": {},
     "output_type": "execute_result"
    }
   ],
   "source": [
    "include(\"Code-Execute-ACC-Good-Path-2.jl\")"
   ]
  },
  {
   "cell_type": "code",
   "execution_count": 201,
   "metadata": {
    "collapsed": true
   },
   "outputs": [],
   "source": [
    "GoodPath_new = CSV.read(\"Good-Path-1_new.csv\");\n",
    "GoodPath_new = Array{Int, 1}(GoodPath_new[:Path]);"
   ]
  },
  {
   "cell_type": "code",
   "execution_count": 204,
   "metadata": {},
   "outputs": [
    {
     "data": {
      "text/plain": [
       "1.5333973490822697e6"
      ]
     },
     "execution_count": 204,
     "metadata": {},
     "output_type": "execute_result"
    }
   ],
   "source": [
    "Len_Eval_2(GoodPath_new, Data)"
   ]
  },
  {
   "cell_type": "code",
   "execution_count": 205,
   "metadata": {
    "collapsed": true
   },
   "outputs": [],
   "source": [
    "GoodPath = CSV.read(\"Good-Path-1.csv\");\n",
    "GoodPath = Array{Int, 1}(GoodPath[:Path]);"
   ]
  },
  {
   "cell_type": "code",
   "execution_count": 208,
   "metadata": {},
   "outputs": [
    {
     "data": {
      "text/plain": [
       "7.85535231535323"
      ]
     },
     "execution_count": 208,
     "metadata": {},
     "output_type": "execute_result"
    }
   ],
   "source": [
    "Len_Eval_2(GoodPath, Data)-Len_Eval_2(GoodPath_new, Data)"
   ]
  },
  {
   "cell_type": "code",
   "execution_count": 207,
   "metadata": {},
   "outputs": [
    {
     "data": {
      "text/plain": [
       "1×2 Array{Float64,2}:\n",
       " 1.5334e6  1.53341e6"
      ]
     },
     "execution_count": 207,
     "metadata": {},
     "output_type": "execute_result"
    }
   ],
   "source": [
    "[Len_Eval_2(GoodPath_new, Data) Len_Eval_2(GoodPath, Data)]"
   ]
  },
  {
   "cell_type": "code",
   "execution_count": null,
   "metadata": {
    "collapsed": true
   },
   "outputs": [],
   "source": []
  },
  {
   "cell_type": "code",
   "execution_count": null,
   "metadata": {
    "collapsed": true
   },
   "outputs": [],
   "source": []
  },
  {
   "cell_type": "code",
   "execution_count": null,
   "metadata": {
    "collapsed": true
   },
   "outputs": [],
   "source": []
  },
  {
   "cell_type": "code",
   "execution_count": null,
   "metadata": {
    "collapsed": true
   },
   "outputs": [],
   "source": []
  },
  {
   "cell_type": "code",
   "execution_count": null,
   "metadata": {
    "collapsed": true
   },
   "outputs": [],
   "source": []
  },
  {
   "cell_type": "code",
   "execution_count": null,
   "metadata": {
    "collapsed": true
   },
   "outputs": [],
   "source": [
    "using Plots\n",
    "plotly()\n",
    "scatter(Pts[1,:], Pts[2,:])\n",
    "\n",
    "plot!(Pts[1,:], Pts[2,:], label = \"Old Path, length = $(round(L_o, RoundUp, digits = 2))\")\n",
    "plot!(Pts[1,Path_a], Pts[2,Path_a], label = \"New Path, length = $(round(L_n, RoundUp, digits = 2))\")\n",
    "PSACO = ParaSelectACO(Range, N_sample, D::Array{Float64,2}, 1, k; Na=200::Int)\n",
    "Path_a = PSACO[\"Best_Path\"]"
   ]
  },
  {
   "cell_type": "code",
   "execution_count": null,
   "metadata": {
    "collapsed": true
   },
   "outputs": [],
   "source": []
  },
  {
   "cell_type": "code",
   "execution_count": null,
   "metadata": {
    "collapsed": true
   },
   "outputs": [],
   "source": []
  },
  {
   "cell_type": "code",
   "execution_count": 4,
   "metadata": {
    "collapsed": true
   },
   "outputs": [],
   "source": [
    "K = collect(18:30)\n",
    "L = [1683265.02, 1675956.66, 1672222.78, 1668616.97, 1664058.79, 1663115.37, 1657609.28, 1658854.95, 1658440.87, \n",
    "1656901.38, 1661120.29, 1658562.90, 1661280.17];"
   ]
  },
  {
   "cell_type": "code",
   "execution_count": 6,
   "metadata": {},
   "outputs": [
    {
     "data": {
      "application/vnd.plotly.v1+json": {
       "data": [
        {
         "colorbar": {
          "title": ""
         },
         "hoverinfo": "text",
         "legendgroup": "y1",
         "line": {
          "color": "rgba(0, 154, 250, 1.000)",
          "dash": "solid",
          "shape": "linear",
          "width": 1
         },
         "mode": "lines",
         "name": "y1",
         "showlegend": true,
         "text": [
          null,
          null,
          null,
          null,
          null,
          null,
          null,
          null,
          null,
          null,
          null,
          null,
          null
         ],
         "type": "scatter",
         "x": [
          18,
          19,
          20,
          21,
          22,
          23,
          24,
          25,
          26,
          27,
          28,
          29,
          30
         ],
         "xaxis": "x1",
         "y": [
          1683265.02,
          1675956.66,
          1672222.78,
          1668616.97,
          1664058.79,
          1663115.37,
          1657609.28,
          1658854.95,
          1658440.87,
          1656901.38,
          1661120.29,
          1658562.9,
          1661280.17
         ],
         "yaxis": "y1",
         "zmax": 0.1,
         "zmin": -0.1
        },
        {
         "colorbar": {
          "title": ""
         },
         "hoverinfo": "text",
         "legendgroup": "y2",
         "marker": {
          "color": "rgba(227, 111, 71, 1.000)",
          "line": {
           "color": "rgba(0, 0, 0, 1.000)",
           "width": 1
          },
          "size": 8,
          "symbol": "circle"
         },
         "mode": "markers",
         "name": "y2",
         "showlegend": true,
         "text": [
          null,
          null,
          null,
          null,
          null,
          null,
          null,
          null,
          null,
          null,
          null,
          null,
          null
         ],
         "type": "scatter",
         "x": [
          18,
          19,
          20,
          21,
          22,
          23,
          24,
          25,
          26,
          27,
          28,
          29,
          30
         ],
         "xaxis": "x1",
         "y": [
          1683265.02,
          1675956.66,
          1672222.78,
          1668616.97,
          1664058.79,
          1663115.37,
          1657609.28,
          1658854.95,
          1658440.87,
          1656901.38,
          1661120.29,
          1658562.9,
          1661280.17
         ],
         "yaxis": "y1",
         "zmax": 0.1,
         "zmin": -0.1
        }
       ],
       "layout": {
        "annotations": [],
        "height": 400,
        "legend": {
         "bgcolor": "rgba(255, 255, 255, 1.000)",
         "bordercolor": "rgba(0, 0, 0, 1.000)",
         "font": {
          "color": "rgba(0, 0, 0, 1.000)",
          "family": "sans-serif",
          "size": 11
         },
         "tracegroupgap": 0,
         "x": 1,
         "y": 1
        },
        "margin": {
         "b": 20,
         "l": 0,
         "r": 0,
         "t": 20
        },
        "paper_bgcolor": "rgba(255, 255, 255, 1.000)",
        "plot_bgcolor": "rgba(255, 255, 255, 1.000)",
        "showlegend": true,
        "width": 600,
        "xaxis": {
         "anchor": "y1",
         "domain": [
          0.13989501312335959,
          0.9934383202099738
         ],
         "gridcolor": "rgba(0, 0, 0, 0.100)",
         "gridwidth": 0.5,
         "linecolor": "rgba(0, 0, 0, 1.000)",
         "mirror": false,
         "range": [
          17.64,
          30.36
         ],
         "showgrid": true,
         "showline": true,
         "showticklabels": true,
         "tickangle": 0,
         "tickcolor": "rgb(0, 0, 0)",
         "tickfont": {
          "color": "rgba(0, 0, 0, 1.000)",
          "family": "sans-serif",
          "size": 11
         },
         "tickmode": "array",
         "ticks": "inside",
         "ticktext": [
          "20.0",
          "22.5",
          "25.0",
          "27.5",
          "30.0"
         ],
         "tickvals": [
          20,
          22.5,
          25,
          27.5,
          30
         ],
         "title": "",
         "titlefont": {
          "color": "rgba(0, 0, 0, 1.000)",
          "family": "sans-serif",
          "size": 15
         },
         "type": "-",
         "visible": true,
         "zeroline": false,
         "zerolinecolor": "rgba(0, 0, 0, 1.000)"
        },
        "yaxis": {
         "anchor": "x1",
         "domain": [
          0.03762029746281716,
          0.9901574803149606
         ],
         "gridcolor": "rgba(0, 0, 0, 0.100)",
         "gridwidth": 0.5,
         "linecolor": "rgba(0, 0, 0, 1.000)",
         "mirror": false,
         "range": [
          1656110.4707999998,
          1684055.9292000001
         ],
         "showgrid": true,
         "showline": true,
         "showticklabels": true,
         "tickangle": 0,
         "tickcolor": "rgb(0, 0, 0)",
         "tickfont": {
          "color": "rgba(0, 0, 0, 1.000)",
          "family": "sans-serif",
          "size": 11
         },
         "tickmode": "array",
         "ticks": "inside",
         "ticktext": [
          "1.660×10⁶",
          "1.665×10⁶",
          "1.670×10⁶",
          "1.675×10⁶",
          "1.680×10⁶"
         ],
         "tickvals": [
          1660000,
          1665000,
          1670000,
          1675000,
          1680000
         ],
         "title": "",
         "titlefont": {
          "color": "rgba(0, 0, 0, 1.000)",
          "family": "sans-serif",
          "size": 15
         },
         "type": "-",
         "visible": true,
         "zeroline": false,
         "zerolinecolor": "rgba(0, 0, 0, 1.000)"
        }
       }
      },
      "text/html": [
       "    <div id=\"f4622adb-942b-4892-966f-f77c160deada\" style=\"width:600px;height:400px;\"></div>\n",
       "    <script>\n",
       "    PLOT = document.getElementById('f4622adb-942b-4892-966f-f77c160deada');\n",
       "    Plotly.plot(PLOT, [{\"xaxis\":\"x1\",\"colorbar\":{\"title\":\"\"},\"yaxis\":\"y1\",\"text\":[null,null,null,null,null,null,null,null,null,null,null,null,null],\"x\":[18,19,20,21,22,23,24,25,26,27,28,29,30],\"showlegend\":true,\"mode\":\"lines\",\"name\":\"y1\",\"zmin\":-0.1,\"legendgroup\":\"y1\",\"zmax\":0.1,\"line\":{\"color\":\"rgba(0, 154, 250, 1.000)\",\"shape\":\"linear\",\"dash\":\"solid\",\"width\":1},\"y\":[1.68326502e6,1.67595666e6,1.67222278e6,1.66861697e6,1.66405879e6,1.66311537e6,1.65760928e6,1.65885495e6,1.65844087e6,1.65690138e6,1.66112029e6,1.6585629e6,1.66128017e6],\"type\":\"scatter\",\"hoverinfo\":\"text\"},{\"xaxis\":\"x1\",\"colorbar\":{\"title\":\"\"},\"yaxis\":\"y1\",\"text\":[null,null,null,null,null,null,null,null,null,null,null,null,null],\"x\":[18,19,20,21,22,23,24,25,26,27,28,29,30],\"showlegend\":true,\"mode\":\"markers\",\"name\":\"y2\",\"zmin\":-0.1,\"legendgroup\":\"y2\",\"marker\":{\"symbol\":\"circle\",\"color\":\"rgba(227, 111, 71, 1.000)\",\"line\":{\"color\":\"rgba(0, 0, 0, 1.000)\",\"width\":1},\"size\":8},\"zmax\":0.1,\"y\":[1.68326502e6,1.67595666e6,1.67222278e6,1.66861697e6,1.66405879e6,1.66311537e6,1.65760928e6,1.65885495e6,1.65844087e6,1.65690138e6,1.66112029e6,1.6585629e6,1.66128017e6],\"type\":\"scatter\",\"hoverinfo\":\"text\"}], {\"showlegend\":true,\"xaxis\":{\"showticklabels\":true,\"gridwidth\":0.5,\"tickvals\":[20.0,22.5,25.0,27.5,30.0],\"visible\":true,\"ticks\":\"inside\",\"range\":[17.64,30.36],\"domain\":[0.13989501312335959,0.9934383202099738],\"tickmode\":\"array\",\"linecolor\":\"rgba(0, 0, 0, 1.000)\",\"showgrid\":true,\"title\":\"\",\"mirror\":false,\"tickangle\":0,\"showline\":true,\"gridcolor\":\"rgba(0, 0, 0, 0.100)\",\"titlefont\":{\"color\":\"rgba(0, 0, 0, 1.000)\",\"family\":\"sans-serif\",\"size\":15},\"tickcolor\":\"rgb(0, 0, 0)\",\"ticktext\":[\"20.0\",\"22.5\",\"25.0\",\"27.5\",\"30.0\"],\"zeroline\":false,\"type\":\"-\",\"tickfont\":{\"color\":\"rgba(0, 0, 0, 1.000)\",\"family\":\"sans-serif\",\"size\":11},\"zerolinecolor\":\"rgba(0, 0, 0, 1.000)\",\"anchor\":\"y1\"},\"paper_bgcolor\":\"rgba(255, 255, 255, 1.000)\",\"annotations\":[],\"height\":400,\"margin\":{\"l\":0,\"b\":20,\"r\":0,\"t\":20},\"plot_bgcolor\":\"rgba(255, 255, 255, 1.000)\",\"yaxis\":{\"showticklabels\":true,\"gridwidth\":0.5,\"tickvals\":[1.66e6,1.665e6,1.67e6,1.675e6,1.68e6],\"visible\":true,\"ticks\":\"inside\",\"range\":[1.6561104707999998e6,1.6840559292000001e6],\"domain\":[0.03762029746281716,0.9901574803149606],\"tickmode\":\"array\",\"linecolor\":\"rgba(0, 0, 0, 1.000)\",\"showgrid\":true,\"title\":\"\",\"mirror\":false,\"tickangle\":0,\"showline\":true,\"gridcolor\":\"rgba(0, 0, 0, 0.100)\",\"titlefont\":{\"color\":\"rgba(0, 0, 0, 1.000)\",\"family\":\"sans-serif\",\"size\":15},\"tickcolor\":\"rgb(0, 0, 0)\",\"ticktext\":[\"1.660×10⁶\",\"1.665×10⁶\",\"1.670×10⁶\",\"1.675×10⁶\",\"1.680×10⁶\"],\"zeroline\":false,\"type\":\"-\",\"tickfont\":{\"color\":\"rgba(0, 0, 0, 1.000)\",\"family\":\"sans-serif\",\"size\":11},\"zerolinecolor\":\"rgba(0, 0, 0, 1.000)\",\"anchor\":\"x1\"},\"legend\":{\"tracegroupgap\":0,\"bordercolor\":\"rgba(0, 0, 0, 1.000)\",\"bgcolor\":\"rgba(255, 255, 255, 1.000)\",\"font\":{\"color\":\"rgba(0, 0, 0, 1.000)\",\"family\":\"sans-serif\",\"size\":11},\"y\":1.0,\"x\":1.0},\"width\":600});\n",
       "    </script>\n"
      ]
     },
     "execution_count": 6,
     "metadata": {},
     "output_type": "execute_result"
    }
   ],
   "source": [
    "using Plots\n",
    "plotly()\n",
    "plot(K,L)\n",
    "scatter!(K,L)"
   ]
  },
  {
   "cell_type": "code",
   "execution_count": 7,
   "metadata": {},
   "outputs": [
    {
     "data": {
      "text/plain": [
       "1.640496415841584e6"
      ]
     },
     "execution_count": 7,
     "metadata": {},
     "output_type": "execute_result"
    }
   ],
   "source": [
    "minimum(L)*100/101"
   ]
  },
  {
   "cell_type": "code",
   "execution_count": null,
   "metadata": {
    "collapsed": true
   },
   "outputs": [],
   "source": []
  }
 ],
 "metadata": {
  "kernelspec": {
   "display_name": "Julia 1.0.2",
   "language": "julia",
   "name": "julia-1.0"
  },
  "language_info": {
   "file_extension": ".jl",
   "mimetype": "application/julia",
   "name": "julia",
   "version": "1.0.2"
  }
 },
 "nbformat": 4,
 "nbformat_minor": 2
}
