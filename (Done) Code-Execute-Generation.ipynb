{
 "cells": [
  {
   "cell_type": "code",
   "execution_count": 4,
   "metadata": {
    "collapsed": true,
    "scrolled": true
   },
   "outputs": [],
   "source": [
    "f = open(\"Code-Execute-ACC-Good-Path-newest-9.jl\")\n",
    "R = readlines(f);\n",
    "close(f)"
   ]
  },
  {
   "cell_type": "code",
   "execution_count": 5,
   "metadata": {},
   "outputs": [
    {
     "data": {
      "text/plain": [
       "\"global k = 20\""
      ]
     },
     "execution_count": 5,
     "metadata": {},
     "output_type": "execute_result"
    }
   ],
   "source": [
    "R[15]"
   ]
  },
  {
   "cell_type": "code",
   "execution_count": 12,
   "metadata": {},
   "outputs": [],
   "source": [
    "using DelimitedFiles\n",
    "k = 50\n",
    "for n_P = 1:20\n",
    "    filename = \"Code-Execute-ACC-Good-Path-newest-$(n_P).jl\"\n",
    "    writedlm(filename, 0)\n",
    "    open(filename, \"w\") do g\n",
    "        for i = 1:length(R)\n",
    "            if i==15\n",
    "                line = \"global k = $k\"\n",
    "                write(g, line*\"\\n\")  \n",
    "            elseif i==65\n",
    "                line = \"    writedlm(Path_File*\\\"_Progress_$(n_P)_\\$(i)_of_\\$(N_c).txt\\\",0)\"\n",
    "                write(g, line*\"\\n\")\n",
    "            elseif i==67\n",
    "                line = \"        rm(Path_File*\\\"_Progress_$(n_P)_\\$(i-1)_of_\\$(N_c).txt\\\")\"\n",
    "                write(g, line*\"\\n\")\n",
    "            elseif i==75\n",
    "                line = \"        writedlm(\\\"Temp//Path_$(n_P).txt\\\", [[\\\"Start\\\", a, \\\"Improved_Length\\\", Improve, \\\"Path\\\"]; GoodPath[a:b][Path_a]])\"\n",
    "                write(g, line*\"\\n\")\n",
    "            else\n",
    "                line = R[i]\n",
    "                write(g, line*\"\\n\")\n",
    "            end\n",
    "        end\n",
    "    end\n",
    "end"
   ]
  },
  {
   "cell_type": "code",
   "execution_count": null,
   "metadata": {
    "collapsed": true
   },
   "outputs": [],
   "source": []
  }
 ],
 "metadata": {
  "kernelspec": {
   "display_name": "Julia 1.0.2",
   "language": "julia",
   "name": "julia-1.0"
  },
  "language_info": {
   "file_extension": ".jl",
   "mimetype": "application/julia",
   "name": "julia",
   "version": "1.0.2"
  }
 },
 "nbformat": 4,
 "nbformat_minor": 2
}
