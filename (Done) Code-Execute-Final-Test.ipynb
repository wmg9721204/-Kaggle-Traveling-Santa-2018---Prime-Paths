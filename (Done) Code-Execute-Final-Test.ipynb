{
 "cells": [
  {
   "cell_type": "code",
   "execution_count": 3,
   "metadata": {
    "scrolled": true
   },
   "outputs": [
    {
     "name": "stderr",
     "output_type": "stream",
     "text": [
      "┌ Info: Recompiling stale cache file C:\\Users\\MIN CHUN WU\\.julia\\compiled\\v1.0\\DataFrames\\AR9oZ.ji for DataFrames [a93c6f00-e57d-5684-b7b6-d8193f3e46c0]\n",
      "└ @ Base loading.jl:1190\n",
      "┌ Info: Recompiling stale cache file C:\\Users\\MIN CHUN WU\\.julia\\compiled\\v1.0\\CSV\\HHBkp.ji for CSV [336ed68f-0bac-5ca0-87d4-7b16caf5d00b]\n",
      "└ @ Base loading.jl:1190\n",
      "┌ Info: Recompiling stale cache file C:\\Users\\MIN CHUN WU\\.julia\\compiled\\v1.0\\Clustering\\Ovl2Q.ji for Clustering [aaaa29a8-35af-508c-8bc3-b662a17a0fe5]\n",
      "└ @ Base loading.jl:1190\n"
     ]
    },
    {
     "name": "stdout",
     "output_type": "stream",
     "text": [
      "Initialization Step: applying ACO on layer-1 sub-clusters\n",
      "Initialization completed!!\n",
      "Loop Step: applying ACO on non-bottom sub-clusters\n",
      "1\n",
      "Repeat = 1\n",
      "2\n",
      "3\n",
      "4\n",
      "5\n",
      "6\n",
      "7\n",
      "8\n",
      "9\n",
      "10\n",
      "11\n",
      "12\n",
      "Repeat = 1\n",
      "13\n",
      "14\n",
      "15\n",
      "16\n",
      "17\n",
      "18\n",
      "19\n",
      "Repeat = 1\n",
      "20\n",
      "21\n",
      "22\n",
      "23\n",
      "Repeat = 1\n",
      "Repeat = 2\n",
      "Repeat = 3\n",
      "Repeat = 4\n",
      "Repeat = 5\n",
      "24\n",
      "25\n",
      "26\n",
      "27\n",
      "Repeat = 1\n",
      "Repeat = 2\n",
      "Repeat = 3\n",
      "Repeat = 4\n",
      "Repeat = 5\n",
      "Repeat = 6\n",
      "Repeat = 7\n",
      "Repeat = 8\n",
      "Repeat = 9\n",
      "Repeat = 10\n",
      "Execute CutHalf2\n",
      "28\n",
      "29\n",
      "Repeat = 1\n",
      "Repeat = 2\n",
      "30\n",
      "Repeat = 1\n",
      "31\n",
      "32\n",
      "Repeat = 1\n",
      "Repeat = 2\n",
      "Repeat = 3\n",
      "Repeat = 4\n",
      "Repeat = 5\n",
      "Repeat = 6\n",
      "Repeat = 7\n",
      "Repeat = 8\n",
      "Repeat = 9\n",
      "Repeat = 10\n",
      "Execute CutHalf\n",
      "33\n",
      "34\n",
      "Repeat = 1\n",
      "Repeat = 2\n",
      "Repeat = 3\n",
      "Repeat = 4\n",
      "Repeat = 5\n",
      "Repeat = 6\n",
      "Repeat = 7\n",
      "Repeat = 8\n",
      "Repeat = 9\n",
      "Repeat = 10\n",
      "Execute CutHalf2\n",
      "Loop step completed\n",
      "Path length = 80\n"
     ]
    },
    {
     "name": "stderr",
     "output_type": "stream",
     "text": [
      "┌ Info: Recompiling stale cache file C:\\Users\\MIN CHUN WU\\.julia\\compiled\\v1.0\\JLD2\\O1EyT.ji for JLD2 [033835bb-8acc-5ee8-8aae-3f567f8a3819]\n",
      "└ @ Base loading.jl:1190\n"
     ]
    },
    {
     "name": "stdout",
     "output_type": "stream",
     "text": [
      "Implement Naive ACO (not considering 10-step constratint): applying ACO on bottom sub-clusters\n"
     ]
    },
    {
     "name": "stderr",
     "output_type": "stream",
     "text": [
      "Error encountered while loading \"Sol_naive_Done_18_10.jld2\".\n",
      "Fatal error:\n"
     ]
    },
    {
     "name": "stdout",
     "output_type": "stream",
     "text": [
      "Start from 1\n"
     ]
    },
    {
     "name": "stderr",
     "output_type": "stream",
     "text": [
      "\u001b[32mComputing...100%|███████████████████████████████████████| Time: 0:00:43\u001b[39m\n"
     ]
    },
    {
     "ename": "LoadError",
     "evalue": "BoundsError: attempt to access 1001-element Array{Int64,1} at index [167684:167733]",
     "output_type": "error",
     "traceback": [
      "BoundsError: attempt to access 1001-element Array{Int64,1} at index [167684:167733]",
      "",
      "Stacktrace:",
      " [1] throw_boundserror(::Array{Int64,1}, ::Tuple{UnitRange{Int64}}) at .\\abstractarray.jl:484",
      " [2] checkbounds at .\\abstractarray.jl:449 [inlined]",
      " [3] getindex(::Array{Int64,1}, ::UnitRange{Int64}) at .\\array.jl:737",
      " [4] top-level scope at C:\\Users\\MIN CHUN WU\\GoogleDrive\\Projects\\In_Julia\\Kaggle_Santa_Travelling\\-Kaggle-Traveling-Santa-2018---Prime-Paths\\Code-Execute-4-ACC-Good-Path-newest-master.jl:79 [inlined]",
      " [5] top-level scope at .\\none:0",
      " [6] include at .\\boot.jl:317 [inlined]",
      " [7] include_relative(::Module, ::String) at .\\loading.jl:1044",
      " [8] include(::Module, ::String) at .\\sysimg.jl:29",
      " [9] include(::String) at .\\client.jl:392",
      " [10] top-level scope at In[3]:7"
     ]
    }
   ],
   "source": [
    "## Apply tree-subclustering\n",
    "include(\"Code-Execute-1-Tree-Subcluster_18_10.jl\") ## remember to set k and N_d\n",
    "## Apply naive ACO on bottom subclusters\n",
    "include(\"Code-Execute-2-Naive-ACO-on-Bottom-Subclusters.jl\") ## remember to set k and N_d\n",
    "## Generate agents for parallel processing\n",
    "include(\"Code-Execute-3-Generate-Multi-Agent.jl\") ## k (sub-path length), N (number of agents) are adjustable\n",
    "## Run the master agent\n",
    "include(\"Code-Execute-4-ACC-Good-Path-newest-master.jl\") ## k (sub-path length) should be the same as the prvious\n",
    "## Run the parallel agents\n",
    "for i=1:N ## N (number of agents)\n",
    "    include(\"Code-Execute-5-ACC-Good-Path-newest-$(i).jl\")\n",
    "end"
   ]
  },
  {
   "cell_type": "code",
   "execution_count": null,
   "metadata": {},
   "outputs": [],
   "source": []
  }
 ],
 "metadata": {
  "kernelspec": {
   "display_name": "Julia 1.0.2",
   "language": "julia",
   "name": "julia-1.0"
  },
  "language_info": {
   "file_extension": ".jl",
   "mimetype": "application/julia",
   "name": "julia",
   "version": "1.0.2"
  }
 },
 "nbformat": 4,
 "nbformat_minor": 2
}
