{
 "cells": [
  {
   "cell_type": "code",
   "execution_count": 7,
   "metadata": {},
   "outputs": [],
   "source": [
    "using FileIO"
   ]
  },
  {
   "cell_type": "markdown",
   "metadata": {},
   "source": [
    "##### Method 1"
   ]
  },
  {
   "cell_type": "code",
   "execution_count": 16,
   "metadata": {},
   "outputs": [
    {
     "data": {
      "text/plain": [
       "Dict{String,Any} with 2 entries:\n",
       "  \"hello\" => \"world\"\n",
       "  \"foo\"   => :bar"
      ]
     },
     "execution_count": 16,
     "metadata": {},
     "output_type": "execute_result"
    }
   ],
   "source": [
    "save(\"example.jld2\", Dict(\"hello\" => \"world\", \"foo\" => :bar))\n",
    "d = load(\"example.jld2\")"
   ]
  },
  {
   "cell_type": "code",
   "execution_count": 17,
   "metadata": {},
   "outputs": [
    {
     "data": {
      "text/plain": [
       ":bar"
      ]
     },
     "execution_count": 17,
     "metadata": {},
     "output_type": "execute_result"
    }
   ],
   "source": [
    "d[\"foo\"]"
   ]
  },
  {
   "cell_type": "markdown",
   "metadata": {},
   "source": [
    "##### Method 2"
   ]
  },
  {
   "cell_type": "code",
   "execution_count": 29,
   "metadata": {},
   "outputs": [
    {
     "data": {
      "text/plain": [
       "Dict{String,Any} with 2 entries:\n",
       "  \"is\"   => 2\n",
       "  \"what\" => 1"
      ]
     },
     "execution_count": 29,
     "metadata": {},
     "output_type": "execute_result"
    }
   ],
   "source": [
    "save(\"Ex.jld2\", \"what\", 1, \"is\", 2)\n",
    "d = load(\"Ex.jld2\")"
   ]
  },
  {
   "cell_type": "code",
   "execution_count": 30,
   "metadata": {},
   "outputs": [
    {
     "data": {
      "text/plain": [
       "1"
      ]
     },
     "execution_count": 30,
     "metadata": {},
     "output_type": "execute_result"
    }
   ],
   "source": [
    "d[\"what\"]"
   ]
  },
  {
   "cell_type": "code",
   "execution_count": null,
   "metadata": {},
   "outputs": [],
   "source": []
  },
  {
   "cell_type": "code",
   "execution_count": null,
   "metadata": {},
   "outputs": [],
   "source": []
  },
  {
   "cell_type": "markdown",
   "metadata": {},
   "source": [
    "### How to save/load a csv file"
   ]
  },
  {
   "cell_type": "markdown",
   "metadata": {},
   "source": [
    "**Note**: Only possible to transform a 2-dimension array to a dataframe"
   ]
  },
  {
   "cell_type": "code",
   "execution_count": 72,
   "metadata": {},
   "outputs": [
    {
     "data": {
      "text/html": [
       "<table class=\"data-frame\"><thead><tr><th></th><th>c1</th><th>c2</th><th>c3</th></tr><tr><th></th><th>Float64</th><th>Float64</th><th>Float64</th></tr></thead><tbody><p>10 rows × 3 columns</p><tr><th>1</th><td>0.377052</td><td>0.684778</td><td>0.427019</td></tr><tr><th>2</th><td>0.187308</td><td>0.330478</td><td>0.932678</td></tr><tr><th>3</th><td>0.941674</td><td>0.957632</td><td>0.622558</td></tr><tr><th>4</th><td>0.996173</td><td>0.78084</td><td>0.0902756</td></tr><tr><th>5</th><td>0.929127</td><td>0.467941</td><td>0.712555</td></tr><tr><th>6</th><td>0.0498943</td><td>0.326705</td><td>0.392116</td></tr><tr><th>7</th><td>0.173548</td><td>0.583811</td><td>0.728561</td></tr><tr><th>8</th><td>0.782051</td><td>0.713339</td><td>0.925383</td></tr><tr><th>9</th><td>0.201767</td><td>0.194347</td><td>0.407101</td></tr><tr><th>10</th><td>0.522504</td><td>0.440259</td><td>0.586329</td></tr></tbody></table>"
      ],
      "text/latex": [
       "\\begin{tabular}{r|ccc}\n",
       "\t& c1 & c2 & c3\\\\\n",
       "\t\\hline\n",
       "\t1 & 0.377052 & 0.684778 & 0.427019 \\\\\n",
       "\t2 & 0.187308 & 0.330478 & 0.932678 \\\\\n",
       "\t3 & 0.941674 & 0.957632 & 0.622558 \\\\\n",
       "\t4 & 0.996173 & 0.78084 & 0.0902756 \\\\\n",
       "\t5 & 0.929127 & 0.467941 & 0.712555 \\\\\n",
       "\t6 & 0.0498943 & 0.326705 & 0.392116 \\\\\n",
       "\t7 & 0.173548 & 0.583811 & 0.728561 \\\\\n",
       "\t8 & 0.782051 & 0.713339 & 0.925383 \\\\\n",
       "\t9 & 0.201767 & 0.194347 & 0.407101 \\\\\n",
       "\t10 & 0.522504 & 0.440259 & 0.586329 \\\\\n",
       "\\end{tabular}\n"
      ],
      "text/plain": [
       "10×3 DataFrame\n",
       "│ Row │ c1        │ c2       │ c3        │\n",
       "│     │ \u001b[90mFloat64\u001b[39m   │ \u001b[90mFloat64\u001b[39m  │ \u001b[90mFloat64\u001b[39m   │\n",
       "├─────┼───────────┼──────────┼───────────┤\n",
       "│ 1   │ 0.377052  │ 0.684778 │ 0.427019  │\n",
       "│ 2   │ 0.187308  │ 0.330478 │ 0.932678  │\n",
       "│ 3   │ 0.941674  │ 0.957632 │ 0.622558  │\n",
       "│ 4   │ 0.996173  │ 0.78084  │ 0.0902756 │\n",
       "│ 5   │ 0.929127  │ 0.467941 │ 0.712555  │\n",
       "│ 6   │ 0.0498943 │ 0.326705 │ 0.392116  │\n",
       "│ 7   │ 0.173548  │ 0.583811 │ 0.728561  │\n",
       "│ 8   │ 0.782051  │ 0.713339 │ 0.925383  │\n",
       "│ 9   │ 0.201767  │ 0.194347 │ 0.407101  │\n",
       "│ 10  │ 0.522504  │ 0.440259 │ 0.586329  │"
      ]
     },
     "execution_count": 72,
     "metadata": {},
     "output_type": "execute_result"
    }
   ],
   "source": [
    "A = rand(10,3)\n",
    "using CSV, DataFrames\n",
    "DF = DataFrame(A, [:c1, :c2, :c3])"
   ]
  },
  {
   "cell_type": "code",
   "execution_count": 73,
   "metadata": {},
   "outputs": [
    {
     "data": {
      "text/plain": [
       "\"FileName.csv\""
      ]
     },
     "execution_count": 73,
     "metadata": {},
     "output_type": "execute_result"
    }
   ],
   "source": [
    "CSV.write(\"FileName.csv\",  DF, writeheader=true)"
   ]
  },
  {
   "cell_type": "code",
   "execution_count": 74,
   "metadata": {},
   "outputs": [
    {
     "data": {
      "text/html": [
       "<table class=\"data-frame\"><thead><tr><th></th><th>c1</th><th>c2</th><th>c3</th></tr><tr><th></th><th>Float64⍰</th><th>Float64⍰</th><th>Float64⍰</th></tr></thead><tbody><p>10 rows × 3 columns</p><tr><th>1</th><td>0.377052</td><td>0.684778</td><td>0.427019</td></tr><tr><th>2</th><td>0.187308</td><td>0.330478</td><td>0.932678</td></tr><tr><th>3</th><td>0.941674</td><td>0.957632</td><td>0.622558</td></tr><tr><th>4</th><td>0.996173</td><td>0.78084</td><td>0.0902756</td></tr><tr><th>5</th><td>0.929127</td><td>0.467941</td><td>0.712555</td></tr><tr><th>6</th><td>0.0498943</td><td>0.326705</td><td>0.392116</td></tr><tr><th>7</th><td>0.173548</td><td>0.583811</td><td>0.728561</td></tr><tr><th>8</th><td>0.782051</td><td>0.713339</td><td>0.925383</td></tr><tr><th>9</th><td>0.201767</td><td>0.194347</td><td>0.407101</td></tr><tr><th>10</th><td>0.522504</td><td>0.440259</td><td>0.586329</td></tr></tbody></table>"
      ],
      "text/latex": [
       "\\begin{tabular}{r|ccc}\n",
       "\t& c1 & c2 & c3\\\\\n",
       "\t\\hline\n",
       "\t1 & 0.377052 & 0.684778 & 0.427019 \\\\\n",
       "\t2 & 0.187308 & 0.330478 & 0.932678 \\\\\n",
       "\t3 & 0.941674 & 0.957632 & 0.622558 \\\\\n",
       "\t4 & 0.996173 & 0.78084 & 0.0902756 \\\\\n",
       "\t5 & 0.929127 & 0.467941 & 0.712555 \\\\\n",
       "\t6 & 0.0498943 & 0.326705 & 0.392116 \\\\\n",
       "\t7 & 0.173548 & 0.583811 & 0.728561 \\\\\n",
       "\t8 & 0.782051 & 0.713339 & 0.925383 \\\\\n",
       "\t9 & 0.201767 & 0.194347 & 0.407101 \\\\\n",
       "\t10 & 0.522504 & 0.440259 & 0.586329 \\\\\n",
       "\\end{tabular}\n"
      ],
      "text/plain": [
       "10×3 DataFrame\n",
       "│ Row │ c1        │ c2       │ c3        │\n",
       "│     │ \u001b[90mFloat64⍰\u001b[39m  │ \u001b[90mFloat64⍰\u001b[39m │ \u001b[90mFloat64⍰\u001b[39m  │\n",
       "├─────┼───────────┼──────────┼───────────┤\n",
       "│ 1   │ 0.377052  │ 0.684778 │ 0.427019  │\n",
       "│ 2   │ 0.187308  │ 0.330478 │ 0.932678  │\n",
       "│ 3   │ 0.941674  │ 0.957632 │ 0.622558  │\n",
       "│ 4   │ 0.996173  │ 0.78084  │ 0.0902756 │\n",
       "│ 5   │ 0.929127  │ 0.467941 │ 0.712555  │\n",
       "│ 6   │ 0.0498943 │ 0.326705 │ 0.392116  │\n",
       "│ 7   │ 0.173548  │ 0.583811 │ 0.728561  │\n",
       "│ 8   │ 0.782051  │ 0.713339 │ 0.925383  │\n",
       "│ 9   │ 0.201767  │ 0.194347 │ 0.407101  │\n",
       "│ 10  │ 0.522504  │ 0.440259 │ 0.586329  │"
      ]
     },
     "execution_count": 74,
     "metadata": {},
     "output_type": "execute_result"
    }
   ],
   "source": [
    "CSV.read(\"FileName.csv\")"
   ]
  },
  {
   "cell_type": "markdown",
   "metadata": {},
   "source": [
    "### To save 1-dimensional array, use \"reshape\""
   ]
  },
  {
   "cell_type": "code",
   "execution_count": 82,
   "metadata": {},
   "outputs": [
    {
     "data": {
      "text/html": [
       "<table class=\"data-frame\"><thead><tr><th></th><th>c1</th></tr><tr><th></th><th>Float64</th></tr></thead><tbody><p>3 rows × 1 columns</p><tr><th>1</th><td>0.2505</td></tr><tr><th>2</th><td>0.569865</td></tr><tr><th>3</th><td>0.620179</td></tr></tbody></table>"
      ],
      "text/latex": [
       "\\begin{tabular}{r|c}\n",
       "\t& c1\\\\\n",
       "\t\\hline\n",
       "\t1 & 0.2505 \\\\\n",
       "\t2 & 0.569865 \\\\\n",
       "\t3 & 0.620179 \\\\\n",
       "\\end{tabular}\n"
      ],
      "text/plain": [
       "3×1 DataFrame\n",
       "│ Row │ c1       │\n",
       "│     │ \u001b[90mFloat64\u001b[39m  │\n",
       "├─────┼──────────┤\n",
       "│ 1   │ 0.2505   │\n",
       "│ 2   │ 0.569865 │\n",
       "│ 3   │ 0.620179 │"
      ]
     },
     "execution_count": 82,
     "metadata": {},
     "output_type": "execute_result"
    }
   ],
   "source": [
    "A = rand(3)\n",
    "DF = DataFrame(reshape(A,3,1), [:c1])"
   ]
  },
  {
   "cell_type": "markdown",
   "metadata": {},
   "source": [
    "### Another choice is using the package \"DelimitedFiles\""
   ]
  },
  {
   "cell_type": "code",
   "execution_count": 84,
   "metadata": {},
   "outputs": [],
   "source": [
    "using DelimitedFiles"
   ]
  },
  {
   "cell_type": "code",
   "execution_count": 103,
   "metadata": {},
   "outputs": [],
   "source": [
    "numbers = collect(1:5)\n",
    "writedlm(\"test.txt\", numbers)"
   ]
  },
  {
   "cell_type": "code",
   "execution_count": 101,
   "metadata": {},
   "outputs": [
    {
     "data": {
      "text/plain": [
       "5×1 Array{Float64,2}:\n",
       " 0.5792943966914246 \n",
       " 0.2682576371535197 \n",
       " 0.40802301257319096\n",
       " 0.6532667866627315 \n",
       " 0.5307657043110938 "
      ]
     },
     "execution_count": 101,
     "metadata": {},
     "output_type": "execute_result"
    }
   ],
   "source": [
    "readdlm(\"test.txt\")"
   ]
  },
  {
   "cell_type": "code",
   "execution_count": null,
   "metadata": {},
   "outputs": [],
   "source": []
  }
 ],
 "metadata": {
  "kernelspec": {
   "display_name": "Julia 1.0.2",
   "language": "julia",
   "name": "julia-1.0"
  },
  "language_info": {
   "file_extension": ".jl",
   "mimetype": "application/julia",
   "name": "julia",
   "version": "1.0.2"
  }
 },
 "nbformat": 4,
 "nbformat_minor": 2
}
