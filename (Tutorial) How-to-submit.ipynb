{
 "cells": [
  {
   "cell_type": "markdown",
   "metadata": {},
   "source": [
    "### Purpose:\n",
    "The purpose of this notebook is to give a simple illustration of how to build a qualified file for submission of this competition. The submission requires a result csv file. The following records how to save a resulting Array of integers as a desired csv file."
   ]
  },
  {
   "cell_type": "markdown",
   "metadata": {},
   "source": [
    "#### Load the sample submission file provided by the competition host."
   ]
  },
  {
   "cell_type": "code",
   "execution_count": 6,
   "metadata": {},
   "outputs": [
    {
     "data": {
      "text/plain": [
       "197769"
      ]
     },
     "execution_count": 6,
     "metadata": {},
     "output_type": "execute_result"
    }
   ],
   "source": [
    "using DataFrames\n",
    "using CSV\n",
    "Sample = CSV.read(\"sample_submission.csv\")\n",
    "head(Sample)\n",
    "tail(Sample)\n",
    "n = size(Sample,1)[1]-1"
   ]
  },
  {
   "cell_type": "markdown",
   "metadata": {},
   "source": [
    "#### Construct a \"sample result\". \n",
    "Remember that the starting and ending point should be the north pole (city 0)."
   ]
  },
  {
   "cell_type": "code",
   "execution_count": 8,
   "metadata": {},
   "outputs": [
    {
     "data": {
      "text/html": [
       "<table class=\"data-frame\"><thead><tr><th></th><th>Path</th><th>Path_1</th></tr><tr><th></th><th>Int64</th><th>Int64</th></tr></thead><tbody><tr><th>1</th><td>0</td><td>79086</td></tr><tr><th>2</th><td>42279</td><td>125285</td></tr><tr><th>3</th><td>190291</td><td>175092</td></tr><tr><th>4</th><td>845</td><td>2961</td></tr><tr><th>5</th><td>135807</td><td>111055</td></tr><tr><th>6</th><td>25662</td><td>0</td></tr></tbody></table>"
      ],
      "text/latex": [
       "\\begin{tabular}{r|cc}\n",
       "\t& Path & Path\\_1\\\\\n",
       "\t\\hline\n",
       "\t1 & 0 & 79086 \\\\\n",
       "\t2 & 42279 & 125285 \\\\\n",
       "\t3 & 190291 & 175092 \\\\\n",
       "\t4 & 845 & 2961 \\\\\n",
       "\t5 & 135807 & 111055 \\\\\n",
       "\t6 & 25662 & 0 \\\\\n",
       "\\end{tabular}\n"
      ],
      "text/plain": [
       "6×2 DataFrame\n",
       "│ Row │ Path   │ Path_1 │\n",
       "│     │ \u001b[90mInt64\u001b[39m  │ \u001b[90mInt64\u001b[39m  │\n",
       "├─────┼────────┼────────┤\n",
       "│ 1   │ 0      │ 79086  │\n",
       "│ 2   │ 42279  │ 125285 │\n",
       "│ 3   │ 190291 │ 175092 │\n",
       "│ 4   │ 845    │ 2961   │\n",
       "│ 5   │ 135807 │ 111055 │\n",
       "│ 6   │ 25662  │ 0      │"
      ]
     },
     "execution_count": 8,
     "metadata": {},
     "output_type": "execute_result"
    }
   ],
   "source": [
    "using StatsBase\n",
    "Z = sample(collect(1:n-1), n-1, replace = false)\n",
    "Z = [0;Z;0] ## The submission must have 0 as head and tail\n",
    "df = DataFrame([Z], [:Path]); ## store as dataframe type and add the column name :Path\n",
    "[head(df) tail(df)]"
   ]
  },
  {
   "cell_type": "markdown",
   "metadata": {},
   "source": [
    "#### Save the result as a csv file"
   ]
  },
  {
   "cell_type": "code",
   "execution_count": 10,
   "metadata": {},
   "outputs": [
    {
     "data": {
      "text/plain": [
       "\"Z.csv\""
      ]
     },
     "execution_count": 10,
     "metadata": {},
     "output_type": "execute_result"
    }
   ],
   "source": [
    "CSV.write(\"Z.csv\", df)"
   ]
  },
  {
   "cell_type": "markdown",
   "metadata": {},
   "source": [
    "#### Now we are good to upload the file onto the website for scoring. "
   ]
  }
 ],
 "metadata": {
  "kernelspec": {
   "display_name": "Julia 1.0.2",
   "language": "julia",
   "name": "julia-1.0"
  },
  "language_info": {
   "file_extension": ".jl",
   "mimetype": "application/julia",
   "name": "julia",
   "version": "1.0.2"
  }
 },
 "nbformat": 4,
 "nbformat_minor": 2
}
