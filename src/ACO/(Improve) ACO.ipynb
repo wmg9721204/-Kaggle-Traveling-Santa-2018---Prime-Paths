{
 "cells": [
  {
   "cell_type": "markdown",
   "metadata": {},
   "source": [
    "**Goal**: Improve the current ACO runtime so that point cloud with size aroudn 500 can be reasonably run."
   ]
  },
  {
   "cell_type": "code",
   "execution_count": 44,
   "metadata": {},
   "outputs": [
    {
     "data": {
      "text/plain": [
       "ACO_p"
      ]
     },
     "execution_count": 44,
     "metadata": {},
     "output_type": "execute_result"
    }
   ],
   "source": [
    "using LinearAlgebra ## for the function \"norm\"\n",
    "using StatsBase ## for function \"sample\"\n",
    "\n",
    "\"\"\"\n",
    "ACO_p is a function implementing **ACO (Ant Colony Optimization)** on a matrix of coordinates of points. The purpose is to find a path going through each point exactly once and achieving minimum total travelling distance. <br><br>\n",
    "**Inputs**: <br>\n",
    "(1) **Pts**: an N x d matrix; each row represents the coordinates of a point <br>\n",
    "(2) **Origin**: the starting point, **Goal**: the goal <br><br>\n",
    "(3) **N_I**: number of iteration; default value = 1 <br>\n",
    "(4) **alp**: alpha, **bet**: beta; default value: alp = 1.0, bet = 1.0; these are hyperparameters controlling the influence of distance and remaining pheromone on the path, repectively <br>\n",
    "(5) **rho**: evaporation rate; default value: rho = 0.3 <br>\n",
    "(6) **Q**: the total amount of pheromone an ant carries; default value: Q = 10 <br>\n",
    "**Output**: an array of integers representing the order of the points in which the path goes through. <br>\n",
    "\"\"\"\n",
    "function ACO_p(;Pts::Array{Float64,2}, Origin::Int, Goal::Int, Na = 1000::Int, N_I = 1::Int, alp = 1.0::Float64, bet = 1.0::Float64, \n",
    "        rho = 0.3::Float64, Q = 10.0::Float64)\n",
    "    N = size(Pts,1)\n",
    "    ## compute the distance matrix\n",
    "    Dist = [norm(Pts[i,:].-Pts[j,:]) for i=1:N, j=1:N]; ## the distance matrix of the points\n",
    "    ## Dictionary for collecting the best result in each iteration\n",
    "    Iteration_Dict = Dict()\n",
    "    for i = 1:N_I\n",
    "        Tau = 1/(N-1)*ones(N,N)-1/(N-1)*Matrix{Float64}(I,N,N); ## the prior transition probability\n",
    "        Best_L = Inf ## the best (shortest) length\n",
    "        BestPath = 0 ## the best (shortest) path\n",
    "    \n",
    "        L = 0 ## variable for stopping criterion\n",
    "        L_previous = Inf ## variable for stopping criterion\n",
    "        a = 0\n",
    "        while (abs(L-L_previous)>1.0e-7)&&(a<Na)\n",
    "            ## The interior of this while loop may be written as a function.\n",
    "            a = a+1\n",
    "            L_previous = copy(L)\n",
    "            AP = AntPath(Origin, Goal, N, Dist, alp, bet, Tau, Q, rho)\n",
    "            Tau = AP[1]\n",
    "            path_a = AP[2]\n",
    "            L = AP[3]\n",
    "            \n",
    "            ## store the best record\n",
    "            if L<Best_L\n",
    "                Best_L = copy(L)\n",
    "                BestPath = copy(path_a)\n",
    "            end\n",
    "        end\n",
    "        \n",
    "        Iteration_Dict[i] = (Best_L, BestPath)\n",
    "        ## println(Best_L, BestPath)\n",
    "    end\n",
    "    \n",
    "    ## Find out the best result among all iterations\n",
    "    Best_I = findmin([Iteration_Dict[i][1] for i=1:N_I])[2]\n",
    "    \n",
    "    return Iteration_Dict[Best_I]\n",
    "end"
   ]
  },
  {
   "cell_type": "code",
   "execution_count": 13,
   "metadata": {},
   "outputs": [
    {
     "data": {
      "text/plain": [
       "ACO_d"
      ]
     },
     "execution_count": 13,
     "metadata": {},
     "output_type": "execute_result"
    }
   ],
   "source": [
    "\"\"\"\n",
    "This function implements **ACO (Ant Colony Optimization)** on a matrix of distances. The purpose is to find a path going through each point exactly once and achieving minimum total travelling distance. <br>\n",
    "**Inputs**: <br>\n",
    "(1) **Dist**: the distance matrix <br>\n",
    "(2) **Origin**: the starting point, Goal = the goal <br>\n",
    "(3) **N_I**: number of iteration; default value = 100 <br>\n",
    "(4) **alp**: alpha, bet = beta; these are hyperparameters controlling the influence of distance and remaining pheromone on the path <br>\n",
    "(5) **rho**: evaporation rate, Q = the total amount of pheromone an ant carries <br>\n",
    "**Output**: an array of integers representing the order of the points in which the path goes through. <br>\n",
    "\"\"\"\n",
    "function ACO_d(;Dist::Array{Float64,2}, Origin::Int, Goal::Int, Na::Int, N_I = 1::Int, \n",
    "        alp = 1.0::Float64, bet = 1.0::Float64, rho = 0.3::Float64, Q = 1.0::Float64)\n",
    "    N = size(Dist,1)\n",
    "    ## Dictionary for collecting the best result in each iteration\n",
    "    Iteration_Dict = Dict()\n",
    "    for i = 1:N_I\n",
    "        Tau = 1/(N-1)*ones(N,N)-1/(N-1)*Matrix{Float64}(I,N,N); ## the prior transition probability\n",
    "        Best_L = Inf ## the best (shortest) length\n",
    "        BestPath = 0 ## the best (shortest) path\n",
    "    \n",
    "        L = 0 ## variable for stopping criterion\n",
    "        L_previous = Inf ## variable for stopping criterion\n",
    "        a = 0\n",
    "        while (abs(L-L_previous)>1.0e-7)&&(a<Na)\n",
    "            ## The interior of this while loop may be written as a function.\n",
    "            a = a+1\n",
    "            L_previous = copy(L)\n",
    "            AP = AntPath(Origin, Goal, N, Dist, alp, bet, Tau, Q, rho)\n",
    "            Tau = AP[1]\n",
    "            path_a = AP[2]\n",
    "            L = AP[3]\n",
    "            \n",
    "            ## store the best record\n",
    "            if L<Best_L\n",
    "                Best_L = copy(L)\n",
    "                BestPath = copy(path_a)\n",
    "            end\n",
    "        end\n",
    "        \n",
    "        Iteration_Dict[i] = (Best_L, BestPath)\n",
    "        ## println(Best_L, BestPath)\n",
    "    end\n",
    "    \n",
    "    ## Find out the best result among all iterations\n",
    "    Best_I = findmin([Iteration_Dict[i][1] for i=1:N_I])[2]\n",
    "    \n",
    "    return Iteration_Dict[Best_I]\n",
    "end"
   ]
  },
  {
   "cell_type": "code",
   "execution_count": 3,
   "metadata": {
    "collapsed": true
   },
   "outputs": [],
   "source": [
    "using LinearAlgebra ## for the function \"norm\"\n",
    "using StatsBase ## for function \"sample\"\n",
    "N = 500\n",
    "P = rand(N,2)\n",
    "D = [norm(P[i,:].-P[j,:]) for i=1:N, j=1:N];\n",
    "O = 1\n",
    "G = 2;"
   ]
  },
  {
   "cell_type": "markdown",
   "metadata": {},
   "source": [
    "### This is the original benchmark"
   ]
  },
  {
   "cell_type": "code",
   "execution_count": 27,
   "metadata": {},
   "outputs": [
    {
     "name": "stdout",
     "output_type": "stream",
     "text": [
      "  7.801553 seconds (5.97 M allocations: 4.510 GiB, 7.66% gc time)\n"
     ]
    }
   ],
   "source": [
    "@time ACO_p(Pts=P, Origin=O, Goal=G);"
   ]
  },
  {
   "cell_type": "code",
   "execution_count": 28,
   "metadata": {},
   "outputs": [
    {
     "name": "stdout",
     "output_type": "stream",
     "text": [
      "  4.999736 seconds (3.48 M allocations: 2.898 GiB, 7.16% gc time)\n"
     ]
    }
   ],
   "source": [
    "@time ACO_d(Dist=D, Origin=O, Goal=G);"
   ]
  },
  {
   "cell_type": "markdown",
   "metadata": {},
   "source": [
    "### Try some modifications"
   ]
  },
  {
   "cell_type": "markdown",
   "metadata": {},
   "source": [
    "1. Try to restrict the number of ants to 1000"
   ]
  },
  {
   "cell_type": "code",
   "execution_count": 1,
   "metadata": {},
   "outputs": [
    {
     "data": {
      "text/plain": [
       "AntPath"
      ]
     },
     "execution_count": 1,
     "metadata": {},
     "output_type": "execute_result"
    }
   ],
   "source": [
    "include(\"ACO_p_and_ACO_d.jl\")"
   ]
  },
  {
   "cell_type": "code",
   "execution_count": 127,
   "metadata": {},
   "outputs": [
    {
     "name": "stdout",
     "output_type": "stream",
     "text": [
      "  4.100330 seconds (4.21 M allocations: 3.099 GiB, 8.42% gc time)\n"
     ]
    },
    {
     "data": {
      "text/plain": [
       "(64.38141902968181, [1, 419, 210, 289, 384, 311, 52, 198, 332, 453  …  148, 182, 385, 380, 246, 174, 200, 347, 467, 2])"
      ]
     },
     "execution_count": 127,
     "metadata": {},
     "output_type": "execute_result"
    }
   ],
   "source": [
    "@time ACO_p(Pts=P, Origin=O, Goal=G, Na = 500)"
   ]
  },
  {
   "cell_type": "code",
   "execution_count": 28,
   "metadata": {},
   "outputs": [
    {
     "data": {
      "text/plain": [
       "2.552856777"
      ]
     },
     "execution_count": 28,
     "metadata": {},
     "output_type": "execute_result"
    }
   ],
   "source": [
    "@elapsed(ACO_d(Dist=D, Origin=O, Goal=G, Na = 500))"
   ]
  },
  {
   "cell_type": "code",
   "execution_count": 39,
   "metadata": {},
   "outputs": [
    {
     "name": "stdout",
     "output_type": "stream",
     "text": [
      "  2.826249 seconds (2.64 M allocations: 2.692 GiB, 7.63% gc time)\n"
     ]
    },
    {
     "data": {
      "text/plain": [
       "(57.97931356398022, [1, 140, 196, 379, 215, 384, 242, 173, 8, 217  …  169, 424, 466, 235, 448, 100, 231, 445, 471, 2])"
      ]
     },
     "execution_count": 39,
     "metadata": {},
     "output_type": "execute_result"
    }
   ],
   "source": [
    "@time ACO_d(Dist=D, Origin=O, Goal=G, Na = 1000)"
   ]
  },
  {
   "cell_type": "code",
   "execution_count": 4,
   "metadata": {},
   "outputs": [
    {
     "name": "stdout",
     "output_type": "stream",
     "text": [
      "[500.0 5.62458]\n",
      "[1000.0 3.58013]\n",
      "[1500.0 4.00941]\n",
      "[2000.0 4.33292]\n",
      "[2500.0 4.87971]\n",
      "[3000.0 4.32843]\n",
      "[3500.0 3.47194]\n",
      "[4000.0 3.7763]\n",
      "[4500.0 6.71603]\n",
      "[5000.0 5.84624]\n"
     ]
    },
    {
     "data": {
      "text/plain": [
       "10×2 Array{Float64,2}:\n",
       "  500.0  5.62458\n",
       " 1000.0  3.58013\n",
       " 1500.0  4.00941\n",
       " 2000.0  4.33292\n",
       " 2500.0  4.87971\n",
       " 3000.0  4.32843\n",
       " 3500.0  3.47194\n",
       " 4000.0  3.7763 \n",
       " 4500.0  6.71603\n",
       " 5000.0  5.84624"
      ]
     },
     "execution_count": 4,
     "metadata": {},
     "output_type": "execute_result"
    }
   ],
   "source": [
    "Time_ACO = zeros(0,2)\n",
    "for N = 500:500:5000\n",
    "    N_Time = [N @elapsed(ACO_d(Dist=D, Origin=O, Goal=G, Na = N))]\n",
    "    println(N_Time)\n",
    "    Time_ACO = [Time_ACO; N_Time]\n",
    "end\n",
    "Time_ACO"
   ]
  },
  {
   "cell_type": "code",
   "execution_count": 42,
   "metadata": {
    "scrolled": true
   },
   "outputs": [
    {
     "data": {
      "text/plain": [
       "1"
      ]
     },
     "execution_count": 42,
     "metadata": {},
     "output_type": "execute_result"
    }
   ],
   "source": []
  },
  {
   "cell_type": "code",
   "execution_count": 5,
   "metadata": {
    "collapsed": true
   },
   "outputs": [],
   "source": [
    "Cand = collect(1:N)\n",
    "Cand = Cand[[collect(1:Origin-1);collect(Origin+1:N)]]\n",
    "Path = [Origin]\n",
    "CP = Origin;"
   ]
  },
  {
   "cell_type": "code",
   "execution_count": 8,
   "metadata": {},
   "outputs": [
    {
     "data": {
      "text/plain": [
       "245"
      ]
     },
     "execution_count": 8,
     "metadata": {},
     "output_type": "execute_result"
    }
   ],
   "source": [
    "using LinearAlgebra ## for the function \"norm\"\n",
    "using StatsBase ## for function \"sample\"\n",
    "using Statistics\n",
    "w = aweights((Tau[CP,Cand].^alp).*((Dist[CP,Cand].^(-1)).^bet))\n",
    "CP = sample(Cand,w)"
   ]
  },
  {
   "cell_type": "code",
   "execution_count": null,
   "metadata": {
    "collapsed": true
   },
   "outputs": [],
   "source": [
    "if Origin!=Goal\n",
    "    \n",
    "end"
   ]
  },
  {
   "cell_type": "code",
   "execution_count": 12,
   "metadata": {},
   "outputs": [
    {
     "data": {
      "text/plain": [
       "AntPath (generic function with 2 methods)"
      ]
     },
     "execution_count": 12,
     "metadata": {},
     "output_type": "execute_result"
    }
   ],
   "source": [
    "function AntPath(Origin::Int, Goal::Int, N::Int, Dist::Array{Float64,2}, \n",
    "        alp::Float64, bet::Float64, Tau::Array{Float64,2}, Q::Float64, rho::Float64)\n",
    "    L = 0\n",
    "    Cand = setdiff(collect(1:N),[Origin, Goal]) ## the candidates\n",
    "    CP = copy(Origin) ## cp =  current point\n",
    "    path_a = Int[Origin]\n",
    "            \n",
    "    if Origin!=Goal\n",
    "        for p = 2:N-1\n",
    "            w = aweights((Tau[CP,Cand].^alp).*((Dist[CP,Cand].^(-1)).^bet))\n",
    "            CP = sample(Cand,w)\n",
    "            Cand = setdiff(Cand,[CP])\n",
    "            push!(path_a,CP)\n",
    "        end\n",
    "        push!(path_a, Goal)\n",
    "        L = sum([Dist[path_a[j],path_a[j+1]] for j=1:N-1]) ## total length of path_a\n",
    "    else\n",
    "        for p = 2:N\n",
    "            w = aweights((Tau[CP,Cand].^alp).*((Dist[CP,Cand].^(-1)).^bet))\n",
    "            CP = sample(Cand,w)\n",
    "            Cand = setdiff(Cand,[CP])\n",
    "            push!(path_a,CP)\n",
    "        end\n",
    "        push!(path_a, Goal)\n",
    "        L = sum([Dist[path_a[j], path_a[j+1]] for j=1:N]) ## total length of path_a\n",
    "    end\n",
    "    path_a\n",
    "    \n",
    "    Tau = Tau*(1-rho) ## evaporation update\n",
    "    ## Pheromone update\n",
    "    PheroPerUnit = Q/L\n",
    "    if Origin!=Goal\n",
    "        for j = 1:N-1\n",
    "            Tau[path_a[j], path_a[j+1]] = Tau[path_a[j], path_a[j+1]] + PheroPerUnit ## Pheromone update\n",
    "        end\n",
    "    else\n",
    "        for j = 1:N\n",
    "            Tau[path_a[j], path_a[j+1]] = Tau[path_a[j], path_a[j+1]] + PheroPerUnit ## Pheromone update\n",
    "        end\n",
    "    end\n",
    "    Tau\n",
    "    \n",
    "    return (Tau, path_a, L)\n",
    "end"
   ]
  },
  {
   "cell_type": "code",
   "execution_count": null,
   "metadata": {
    "collapsed": true
   },
   "outputs": [],
   "source": []
  }
 ],
 "metadata": {
  "kernelspec": {
   "display_name": "Julia 1.0.2",
   "language": "julia",
   "name": "julia-1.0"
  },
  "language_info": {
   "file_extension": ".jl",
   "mimetype": "application/julia",
   "name": "julia",
   "version": "1.0.2"
  }
 },
 "nbformat": 4,
 "nbformat_minor": 2
}
